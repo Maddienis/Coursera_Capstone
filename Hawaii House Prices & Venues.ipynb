{
    "cells": [
        {
            "cell_type": "markdown",
            "metadata": {},
            "source": "# Where To Live in Hawaii?\n\n## House prices, and local venue analysis of the Hawaiian Islands\n\n## a. Introduction\n\nA Hawaiian vacation, what first comes to mind are beaches, great weather and relaxed island vibes. But when the discussion of living in Hawaii pops up it turns to expensive, expensive and great weather. According to Zillow, the median house price for the state is \\\\$619,000. The national median is \\\\$231,000. Those better be some good beaches! Hawaii is the 4th smallest state according to land size. \n\nWith such little land mass and incredibly high housing costs what kind of venues does Hawaii have to offer? Is there room for more diverse venues? What are the best areas to live in factoring in house prices and nearby venues?\n\nThese are some of the questions I will answer in this report. A map with the different neighborhoods and the median cost of a house will help get an idea of what areas are more expensive than others. Adding in the venue data will possibly give an answer as to why some areas of Hawaii are more expensive than others. Lastly running the data through a classification model will visually offer some serperation between the different neighborhoods and what the particular area has to offer in terms of venues.\n\nThis report will be useful for people thinking about moving to Hawaii, and myself being one of those I am extra invested in the results of this analysis. The analysis can also be of interest to investor looking to find a new up and coming neighborhood of Hawaii."
        },
        {
            "cell_type": "markdown",
            "metadata": {},
            "source": "## b. Data\n\nThe data I have aquired to solve the problem:\n\n 1. Zip codes and cities of Hawaii\n 2. Median house price for the different cities \n 3. Longitude and latitude of the various Hawaiian cities\n 4. Venue data \n"
        },
        {
            "cell_type": "code",
            "execution_count": 51,
            "metadata": {},
            "outputs": [],
            "source": "from bs4 import BeautifulSoup\nimport requests\nimport pandas as pd\nimport numpy as np\nfrom project_lib import Project\n\nimport types\nfrom botocore.client import Config\nimport ibm_boto3"
        },
        {
            "cell_type": "markdown",
            "metadata": {},
            "source": "### 1. Zip codes and cities\n\nI have used this [website](https://www.zipcodestogo.com/Hawaii/) that listed all of the zip codes with the name of the city. Then extracted the data off of the website using BeautifulSoup"
        },
        {
            "cell_type": "code",
            "execution_count": 41,
            "metadata": {},
            "outputs": [],
            "source": "url = 'https://www.zipcodestogo.com/Hawaii/'\n"
        },
        {
            "cell_type": "code",
            "execution_count": 42,
            "metadata": {},
            "outputs": [],
            "source": "# The code was removed by Watson Studio for sharing."
        },
        {
            "cell_type": "code",
            "execution_count": 43,
            "metadata": {},
            "outputs": [],
            "source": "response = requests.get(url, headers = headers)"
        },
        {
            "cell_type": "code",
            "execution_count": 44,
            "metadata": {},
            "outputs": [
                {
                    "data": {
                        "text/plain": "200"
                    },
                    "execution_count": 44,
                    "metadata": {},
                    "output_type": "execute_result"
                }
            ],
            "source": "response.status_code"
        },
        {
            "cell_type": "code",
            "execution_count": 45,
            "metadata": {},
            "outputs": [],
            "source": "soup = BeautifulSoup(response.content, 'html.parser')\nzips = soup.find_all('table', class_ ='inner_table')"
        },
        {
            "cell_type": "code",
            "execution_count": 46,
            "metadata": {},
            "outputs": [],
            "source": "hi_zip = zips[0]"
        },
        {
            "cell_type": "code",
            "execution_count": 47,
            "metadata": {},
            "outputs": [],
            "source": "l = []\ntable_rows = hi_zip.find_all('tr')\n\nfor tr in table_rows:\n    td = tr.find_all('td')\n    row = [tr.text.strip() for tr in td if tr.text.strip()]\n    if row:\n        l.append(row)\n    \ndf = pd.DataFrame(l, columns=[\"Zip Code\", \"City\", \"County\", \"Drop\"])"
        },
        {
            "cell_type": "code",
            "execution_count": 48,
            "metadata": {},
            "outputs": [],
            "source": "df.drop(columns='Drop', inplace=True)"
        },
        {
            "cell_type": "code",
            "execution_count": 49,
            "metadata": {},
            "outputs": [],
            "source": "df.drop([0,1], inplace=True)"
        },
        {
            "cell_type": "code",
            "execution_count": 50,
            "metadata": {},
            "outputs": [
                {
                    "data": {
                        "text/html": "<div>\n<style scoped>\n    .dataframe tbody tr th:only-of-type {\n        vertical-align: middle;\n    }\n\n    .dataframe tbody tr th {\n        vertical-align: top;\n    }\n\n    .dataframe thead th {\n        text-align: right;\n    }\n</style>\n<table border=\"1\" class=\"dataframe\">\n  <thead>\n    <tr style=\"text-align: right;\">\n      <th></th>\n      <th>Zip Code</th>\n      <th>City</th>\n      <th>County</th>\n    </tr>\n  </thead>\n  <tbody>\n    <tr>\n      <th>2</th>\n      <td>96701</td>\n      <td>Aiea</td>\n      <td>Honolulu</td>\n    </tr>\n    <tr>\n      <th>3</th>\n      <td>96703</td>\n      <td>Anahola</td>\n      <td>Kauai</td>\n    </tr>\n    <tr>\n      <th>4</th>\n      <td>96704</td>\n      <td>Captain Cook</td>\n      <td>Hawaii</td>\n    </tr>\n    <tr>\n      <th>5</th>\n      <td>96705</td>\n      <td>Eleele</td>\n      <td>Kauai</td>\n    </tr>\n    <tr>\n      <th>6</th>\n      <td>96706</td>\n      <td>Ewa Beach</td>\n      <td>Honolulu</td>\n    </tr>\n  </tbody>\n</table>\n</div>",
                        "text/plain": "  Zip Code          City    County\n2    96701          Aiea  Honolulu\n3    96703       Anahola     Kauai\n4    96704  Captain Cook    Hawaii\n5    96705        Eleele     Kauai\n6    96706     Ewa Beach  Honolulu"
                    },
                    "execution_count": 50,
                    "metadata": {},
                    "output_type": "execute_result"
                }
            ],
            "source": "df.head()"
        },
        {
            "cell_type": "markdown",
            "metadata": {},
            "source": "### 2. Median House Prices\n\nI couldn't find a comprehensive list of all the cities and the median house price for each. So after exporting the data I used [Zilllow](https://www.zillow.com/kilauea-hi-96703/home-values/) to create my own. I collected the median home value. A lot of the zip codes provided didn't have housing data because of two reasons. 1. The zip code was covering national park area and did not have housing data. 2. The zip code of close neighboring cities were recongized by one zip code.\n\nIn Excel I removed duplicate cities that were missing house price data."
        },
        {
            "cell_type": "code",
            "execution_count": 56,
            "metadata": {},
            "outputs": [
                {
                    "data": {
                        "text/html": "<div>\n<style scoped>\n    .dataframe tbody tr th:only-of-type {\n        vertical-align: middle;\n    }\n\n    .dataframe tbody tr th {\n        vertical-align: top;\n    }\n\n    .dataframe thead th {\n        text-align: right;\n    }\n</style>\n<table border=\"1\" class=\"dataframe\">\n  <thead>\n    <tr style=\"text-align: right;\">\n      <th></th>\n      <th>Zip Code</th>\n      <th>city</th>\n      <th>County</th>\n      <th>House Price</th>\n    </tr>\n  </thead>\n  <tbody>\n    <tr>\n      <th>0</th>\n      <td>96701</td>\n      <td>Aiea</td>\n      <td>Honolulu</td>\n      <td>704300.0</td>\n    </tr>\n    <tr>\n      <th>1</th>\n      <td>96703</td>\n      <td>Anahola</td>\n      <td>Kauai</td>\n      <td>590300.0</td>\n    </tr>\n    <tr>\n      <th>2</th>\n      <td>96861</td>\n      <td>Camp H M Smith</td>\n      <td>Honolulu</td>\n      <td>NaN</td>\n    </tr>\n    <tr>\n      <th>3</th>\n      <td>96704</td>\n      <td>Captain Cook</td>\n      <td>Hawaii</td>\n      <td>363800.0</td>\n    </tr>\n    <tr>\n      <th>4</th>\n      <td>96705</td>\n      <td>Eleele</td>\n      <td>Kauai</td>\n      <td>495600.0</td>\n    </tr>\n  </tbody>\n</table>\n</div>",
                        "text/plain": "   Zip Code            city    County  House Price\n0     96701            Aiea  Honolulu     704300.0\n1     96703         Anahola     Kauai     590300.0\n2     96861  Camp H M Smith  Honolulu          NaN\n3     96704    Captain Cook    Hawaii     363800.0\n4     96705          Eleele     Kauai     495600.0"
                    },
                    "execution_count": 56,
                    "metadata": {},
                    "output_type": "execute_result"
                }
            ],
            "source": "# The code was removed by Watson Studio for sharing."
        },
        {
            "cell_type": "markdown",
            "metadata": {},
            "source": "### 3. Longitude and Latitude\n\nI obtained this data [online](https://simplemaps.com/data/us-cities). It was downloaded as an Excel file. It contained the coordinates for all 50 states. I filtered out all but Hawaii and uploaded the data.  "
        },
        {
            "cell_type": "code",
            "execution_count": 57,
            "metadata": {},
            "outputs": [
                {
                    "data": {
                        "text/html": "<div>\n<style scoped>\n    .dataframe tbody tr th:only-of-type {\n        vertical-align: middle;\n    }\n\n    .dataframe tbody tr th {\n        vertical-align: top;\n    }\n\n    .dataframe thead th {\n        text-align: right;\n    }\n</style>\n<table border=\"1\" class=\"dataframe\">\n  <thead>\n    <tr style=\"text-align: right;\">\n      <th></th>\n      <th>city</th>\n      <th>county_name_all</th>\n      <th>lat</th>\n      <th>lng</th>\n    </tr>\n  </thead>\n  <tbody>\n    <tr>\n      <th>0</th>\n      <td>Paauilo</td>\n      <td>Hawaii</td>\n      <td>20.0397</td>\n      <td>-155.3696</td>\n    </tr>\n    <tr>\n      <th>1</th>\n      <td>Discovery Harbour</td>\n      <td>Hawaii</td>\n      <td>19.0415</td>\n      <td>-155.6254</td>\n    </tr>\n    <tr>\n      <th>2</th>\n      <td>Haena</td>\n      <td>Kauai</td>\n      <td>22.2186</td>\n      <td>-159.5610</td>\n    </tr>\n    <tr>\n      <th>3</th>\n      <td>Ualapue</td>\n      <td>Maui</td>\n      <td>21.0704</td>\n      <td>-156.8355</td>\n    </tr>\n    <tr>\n      <th>4</th>\n      <td>Waikane</td>\n      <td>Honolulu</td>\n      <td>21.4921</td>\n      <td>-157.8721</td>\n    </tr>\n  </tbody>\n</table>\n</div>",
                        "text/plain": "                city county_name_all      lat       lng\n0            Paauilo          Hawaii  20.0397 -155.3696\n1  Discovery Harbour          Hawaii  19.0415 -155.6254\n2              Haena           Kauai  22.2186 -159.5610\n3            Ualapue            Maui  21.0704 -156.8355\n4            Waikane        Honolulu  21.4921 -157.8721"
                    },
                    "execution_count": 57,
                    "metadata": {},
                    "output_type": "execute_result"
                }
            ],
            "source": "# The code was removed by Watson Studio for sharing."
        },
        {
            "cell_type": "code",
            "execution_count": 89,
            "metadata": {},
            "outputs": [],
            "source": "#Merge the two datasets \nhawaii = pd.merge(hawaii_house, lat_long, on = 'city', how='outer')"
        },
        {
            "cell_type": "code",
            "execution_count": 82,
            "metadata": {},
            "outputs": [
                {
                    "data": {
                        "text/html": "<div>\n<style scoped>\n    .dataframe tbody tr th:only-of-type {\n        vertical-align: middle;\n    }\n\n    .dataframe tbody tr th {\n        vertical-align: top;\n    }\n\n    .dataframe thead th {\n        text-align: right;\n    }\n</style>\n<table border=\"1\" class=\"dataframe\">\n  <thead>\n    <tr style=\"text-align: right;\">\n      <th></th>\n      <th>Zip Code</th>\n      <th>city</th>\n      <th>County</th>\n      <th>House Price</th>\n      <th>county_name_all</th>\n      <th>lat</th>\n      <th>lng</th>\n    </tr>\n  </thead>\n  <tbody>\n    <tr>\n      <th>0</th>\n      <td>96701.0</td>\n      <td>Aiea</td>\n      <td>Honolulu</td>\n      <td>704300.0</td>\n      <td>Honolulu</td>\n      <td>21.3865</td>\n      <td>-157.9232</td>\n    </tr>\n    <tr>\n      <th>1</th>\n      <td>96703.0</td>\n      <td>Anahola</td>\n      <td>Kauai</td>\n      <td>590300.0</td>\n      <td>Kauai</td>\n      <td>22.1455</td>\n      <td>-159.3151</td>\n    </tr>\n    <tr>\n      <th>2</th>\n      <td>96861.0</td>\n      <td>Camp H M Smith</td>\n      <td>Honolulu</td>\n      <td>NaN</td>\n      <td>NaN</td>\n      <td>NaN</td>\n      <td>NaN</td>\n    </tr>\n    <tr>\n      <th>3</th>\n      <td>96704.0</td>\n      <td>Captain Cook</td>\n      <td>Hawaii</td>\n      <td>363800.0</td>\n      <td>Hawaii</td>\n      <td>19.4995</td>\n      <td>-155.8937</td>\n    </tr>\n    <tr>\n      <th>4</th>\n      <td>96705.0</td>\n      <td>Eleele</td>\n      <td>Kauai</td>\n      <td>495600.0</td>\n      <td>Kauai</td>\n      <td>21.9088</td>\n      <td>-159.5801</td>\n    </tr>\n    <tr>\n      <th>5</th>\n      <td>96706.0</td>\n      <td>Ewa Beach</td>\n      <td>Honolulu</td>\n      <td>625100.0</td>\n      <td>Honolulu</td>\n      <td>21.3181</td>\n      <td>-158.0073</td>\n    </tr>\n    <tr>\n      <th>6</th>\n      <td>96858.0</td>\n      <td>Fort Shafter</td>\n      <td>Honolulu</td>\n      <td>NaN</td>\n      <td>NaN</td>\n      <td>NaN</td>\n      <td>NaN</td>\n    </tr>\n    <tr>\n      <th>7</th>\n      <td>96708.0</td>\n      <td>Haiku</td>\n      <td>Maui</td>\n      <td>852400.0</td>\n      <td>NaN</td>\n      <td>NaN</td>\n      <td>NaN</td>\n    </tr>\n    <tr>\n      <th>8</th>\n      <td>96710.0</td>\n      <td>Hakalau</td>\n      <td>Hawaii</td>\n      <td>NaN</td>\n      <td>NaN</td>\n      <td>NaN</td>\n      <td>NaN</td>\n    </tr>\n    <tr>\n      <th>9</th>\n      <td>96712.0</td>\n      <td>Haleiwa</td>\n      <td>Honolulu</td>\n      <td>1206600.0</td>\n      <td>Honolulu</td>\n      <td>21.5871</td>\n      <td>-158.1074</td>\n    </tr>\n  </tbody>\n</table>\n</div>",
                        "text/plain": "   Zip Code            city    County  House Price county_name_all      lat  \\\n0   96701.0            Aiea  Honolulu     704300.0        Honolulu  21.3865   \n1   96703.0         Anahola     Kauai     590300.0           Kauai  22.1455   \n2   96861.0  Camp H M Smith  Honolulu          NaN             NaN      NaN   \n3   96704.0    Captain Cook    Hawaii     363800.0          Hawaii  19.4995   \n4   96705.0          Eleele     Kauai     495600.0           Kauai  21.9088   \n5   96706.0       Ewa Beach  Honolulu     625100.0        Honolulu  21.3181   \n6   96858.0    Fort Shafter  Honolulu          NaN             NaN      NaN   \n7   96708.0           Haiku      Maui     852400.0             NaN      NaN   \n8   96710.0         Hakalau    Hawaii          NaN             NaN      NaN   \n9   96712.0         Haleiwa  Honolulu    1206600.0        Honolulu  21.5871   \n\n        lng  \n0 -157.9232  \n1 -159.3151  \n2       NaN  \n3 -155.8937  \n4 -159.5801  \n5 -158.0073  \n6       NaN  \n7       NaN  \n8       NaN  \n9 -158.1074  "
                    },
                    "execution_count": 82,
                    "metadata": {},
                    "output_type": "execute_result"
                }
            ],
            "source": "hawaii.head(10)"
        },
        {
            "cell_type": "code",
            "execution_count": 83,
            "metadata": {},
            "outputs": [
                {
                    "data": {
                        "text/plain": "(178, 7)"
                    },
                    "execution_count": 83,
                    "metadata": {},
                    "output_type": "execute_result"
                }
            ],
            "source": "hawaii.shape"
        },
        {
            "cell_type": "markdown",
            "metadata": {},
            "source": "This dataframe needs to be cleaned up a bit. As house price and lat/long are the most important columns for the analysis. I will pull out only those with both pieces of data."
        },
        {
            "cell_type": "code",
            "execution_count": 84,
            "metadata": {},
            "outputs": [],
            "source": "hawaii_na = hawaii[hawaii['House Price'].notnull() & hawaii['lat'].notnull()].reset_index(drop=True)"
        },
        {
            "cell_type": "code",
            "execution_count": 85,
            "metadata": {},
            "outputs": [
                {
                    "data": {
                        "text/plain": "(48, 7)"
                    },
                    "execution_count": 85,
                    "metadata": {},
                    "output_type": "execute_result"
                }
            ],
            "source": "hawaii_na.shape"
        },
        {
            "cell_type": "code",
            "execution_count": 88,
            "metadata": {},
            "outputs": [
                {
                    "data": {
                        "text/html": "<div>\n<style scoped>\n    .dataframe tbody tr th:only-of-type {\n        vertical-align: middle;\n    }\n\n    .dataframe tbody tr th {\n        vertical-align: top;\n    }\n\n    .dataframe thead th {\n        text-align: right;\n    }\n</style>\n<table border=\"1\" class=\"dataframe\">\n  <thead>\n    <tr style=\"text-align: right;\">\n      <th></th>\n      <th>city</th>\n      <th>County</th>\n      <th>House Price</th>\n      <th>lat</th>\n      <th>lng</th>\n    </tr>\n  </thead>\n  <tbody>\n    <tr>\n      <th>0</th>\n      <td>Aiea</td>\n      <td>Honolulu</td>\n      <td>704300.0</td>\n      <td>21.3865</td>\n      <td>-157.9232</td>\n    </tr>\n    <tr>\n      <th>1</th>\n      <td>Anahola</td>\n      <td>Kauai</td>\n      <td>590300.0</td>\n      <td>22.1455</td>\n      <td>-159.3151</td>\n    </tr>\n    <tr>\n      <th>2</th>\n      <td>Captain Cook</td>\n      <td>Hawaii</td>\n      <td>363800.0</td>\n      <td>19.4995</td>\n      <td>-155.8937</td>\n    </tr>\n    <tr>\n      <th>3</th>\n      <td>Eleele</td>\n      <td>Kauai</td>\n      <td>495600.0</td>\n      <td>21.9088</td>\n      <td>-159.5801</td>\n    </tr>\n    <tr>\n      <th>4</th>\n      <td>Ewa Beach</td>\n      <td>Honolulu</td>\n      <td>625100.0</td>\n      <td>21.3181</td>\n      <td>-158.0073</td>\n    </tr>\n    <tr>\n      <th>5</th>\n      <td>Haleiwa</td>\n      <td>Honolulu</td>\n      <td>1206600.0</td>\n      <td>21.5871</td>\n      <td>-158.1074</td>\n    </tr>\n    <tr>\n      <th>6</th>\n      <td>Hanalei</td>\n      <td>Kauai</td>\n      <td>1064000.0</td>\n      <td>22.2041</td>\n      <td>-159.4977</td>\n    </tr>\n    <tr>\n      <th>7</th>\n      <td>Hanapepe</td>\n      <td>Kauai</td>\n      <td>492000.0</td>\n      <td>21.9140</td>\n      <td>-159.5874</td>\n    </tr>\n    <tr>\n      <th>8</th>\n      <td>Hauula</td>\n      <td>Honolulu</td>\n      <td>640100.0</td>\n      <td>21.6111</td>\n      <td>-157.9118</td>\n    </tr>\n    <tr>\n      <th>9</th>\n      <td>Hilo</td>\n      <td>Hawaii</td>\n      <td>344800.0</td>\n      <td>19.6886</td>\n      <td>-155.0864</td>\n    </tr>\n    <tr>\n      <th>10</th>\n      <td>Holualoa</td>\n      <td>Hawaii</td>\n      <td>653300.0</td>\n      <td>19.6238</td>\n      <td>-155.9269</td>\n    </tr>\n    <tr>\n      <th>11</th>\n      <td>Honokaa</td>\n      <td>Hawaii</td>\n      <td>371900.0</td>\n      <td>20.0746</td>\n      <td>-155.4656</td>\n    </tr>\n    <tr>\n      <th>12</th>\n      <td>Honolulu</td>\n      <td>Honolulu</td>\n      <td>932100.0</td>\n      <td>21.3294</td>\n      <td>-157.8460</td>\n    </tr>\n    <tr>\n      <th>13</th>\n      <td>Kaaawa</td>\n      <td>Honolulu</td>\n      <td>809800.0</td>\n      <td>21.5485</td>\n      <td>-157.8534</td>\n    </tr>\n    <tr>\n      <th>14</th>\n      <td>Kahului</td>\n      <td>Maui</td>\n      <td>616400.0</td>\n      <td>20.8715</td>\n      <td>-156.4603</td>\n    </tr>\n    <tr>\n      <th>15</th>\n      <td>Kailua</td>\n      <td>Honolulu</td>\n      <td>989000.0</td>\n      <td>21.3920</td>\n      <td>-157.7396</td>\n    </tr>\n    <tr>\n      <th>16</th>\n      <td>Kalaheo</td>\n      <td>Kauai</td>\n      <td>630400.0</td>\n      <td>21.9159</td>\n      <td>-159.5236</td>\n    </tr>\n    <tr>\n      <th>17</th>\n      <td>Kaneohe</td>\n      <td>Honolulu</td>\n      <td>831800.0</td>\n      <td>21.4062</td>\n      <td>-157.7904</td>\n    </tr>\n    <tr>\n      <th>18</th>\n      <td>Kapaa</td>\n      <td>Kauai</td>\n      <td>551700.0</td>\n      <td>22.0910</td>\n      <td>-159.3520</td>\n    </tr>\n    <tr>\n      <th>19</th>\n      <td>Kapaau</td>\n      <td>Hawaii</td>\n      <td>380200.0</td>\n      <td>20.2267</td>\n      <td>-155.8050</td>\n    </tr>\n    <tr>\n      <th>20</th>\n      <td>Kapolei</td>\n      <td>Honolulu</td>\n      <td>635500.0</td>\n      <td>21.3403</td>\n      <td>-158.0665</td>\n    </tr>\n    <tr>\n      <th>21</th>\n      <td>Kaunakakai</td>\n      <td>Maui</td>\n      <td>284200.0</td>\n      <td>21.0905</td>\n      <td>-156.9981</td>\n    </tr>\n    <tr>\n      <th>22</th>\n      <td>Kealakekua</td>\n      <td>Hawaii</td>\n      <td>491600.0</td>\n      <td>19.5286</td>\n      <td>-155.9033</td>\n    </tr>\n    <tr>\n      <th>23</th>\n      <td>Kekaha</td>\n      <td>Kauai</td>\n      <td>423300.0</td>\n      <td>21.9684</td>\n      <td>-159.7141</td>\n    </tr>\n    <tr>\n      <th>24</th>\n      <td>Kihei</td>\n      <td>Maui</td>\n      <td>655600.0</td>\n      <td>20.7653</td>\n      <td>-156.4454</td>\n    </tr>\n    <tr>\n      <th>25</th>\n      <td>Kilauea</td>\n      <td>Kauai</td>\n      <td>942400.0</td>\n      <td>22.2108</td>\n      <td>-159.3964</td>\n    </tr>\n    <tr>\n      <th>26</th>\n      <td>Koloa</td>\n      <td>Kauai</td>\n      <td>697400.0</td>\n      <td>21.9030</td>\n      <td>-159.4610</td>\n    </tr>\n    <tr>\n      <th>27</th>\n      <td>Kula</td>\n      <td>Maui</td>\n      <td>907200.0</td>\n      <td>20.7706</td>\n      <td>-156.3284</td>\n    </tr>\n    <tr>\n      <th>28</th>\n      <td>Kurtistown</td>\n      <td>Hawaii</td>\n      <td>250000.0</td>\n      <td>19.5833</td>\n      <td>-155.0721</td>\n    </tr>\n    <tr>\n      <th>29</th>\n      <td>Lahaina</td>\n      <td>Maui</td>\n      <td>689300.0</td>\n      <td>20.8848</td>\n      <td>-156.6618</td>\n    </tr>\n    <tr>\n      <th>30</th>\n      <td>Laie</td>\n      <td>Honolulu</td>\n      <td>954400.0</td>\n      <td>21.6443</td>\n      <td>-157.9280</td>\n    </tr>\n    <tr>\n      <th>31</th>\n      <td>Lanai City</td>\n      <td>Maui</td>\n      <td>459200.0</td>\n      <td>20.8279</td>\n      <td>-156.9147</td>\n    </tr>\n    <tr>\n      <th>32</th>\n      <td>Lihue</td>\n      <td>Kauai</td>\n      <td>514000.0</td>\n      <td>21.9728</td>\n      <td>-159.3541</td>\n    </tr>\n    <tr>\n      <th>33</th>\n      <td>Makawao</td>\n      <td>Maui</td>\n      <td>709500.0</td>\n      <td>20.8480</td>\n      <td>-156.3190</td>\n    </tr>\n    <tr>\n      <th>34</th>\n      <td>Mountain View</td>\n      <td>Hawaii</td>\n      <td>210700.0</td>\n      <td>19.5358</td>\n      <td>-155.1596</td>\n    </tr>\n    <tr>\n      <th>35</th>\n      <td>Naalehu</td>\n      <td>Hawaii</td>\n      <td>216200.0</td>\n      <td>19.0698</td>\n      <td>-155.5751</td>\n    </tr>\n    <tr>\n      <th>36</th>\n      <td>Pahoa</td>\n      <td>Hawaii</td>\n      <td>179600.0</td>\n      <td>19.4961</td>\n      <td>-154.9454</td>\n    </tr>\n    <tr>\n      <th>37</th>\n      <td>Paia</td>\n      <td>Maui</td>\n      <td>793600.0</td>\n      <td>20.9062</td>\n      <td>-156.3678</td>\n    </tr>\n    <tr>\n      <th>38</th>\n      <td>Pearl City</td>\n      <td>Honolulu</td>\n      <td>718400.0</td>\n      <td>21.4031</td>\n      <td>-157.9566</td>\n    </tr>\n    <tr>\n      <th>39</th>\n      <td>Princeville</td>\n      <td>Kauai</td>\n      <td>782300.0</td>\n      <td>22.2177</td>\n      <td>-159.4809</td>\n    </tr>\n    <tr>\n      <th>40</th>\n      <td>Volcano</td>\n      <td>Hawaii</td>\n      <td>230500.0</td>\n      <td>19.4800</td>\n      <td>-155.2487</td>\n    </tr>\n    <tr>\n      <th>41</th>\n      <td>Wahiawa</td>\n      <td>Honolulu</td>\n      <td>639600.0</td>\n      <td>21.5004</td>\n      <td>-158.0198</td>\n    </tr>\n    <tr>\n      <th>42</th>\n      <td>Waialua</td>\n      <td>Honolulu</td>\n      <td>731700.0</td>\n      <td>21.5660</td>\n      <td>-158.1198</td>\n    </tr>\n    <tr>\n      <th>43</th>\n      <td>Waianae</td>\n      <td>Honolulu</td>\n      <td>422700.0</td>\n      <td>21.4569</td>\n      <td>-158.1759</td>\n    </tr>\n    <tr>\n      <th>44</th>\n      <td>Wailuku</td>\n      <td>Maui</td>\n      <td>576300.0</td>\n      <td>20.8834</td>\n      <td>-156.5059</td>\n    </tr>\n    <tr>\n      <th>45</th>\n      <td>Waimanalo</td>\n      <td>Honolulu</td>\n      <td>742700.0</td>\n      <td>21.3421</td>\n      <td>-157.7303</td>\n    </tr>\n    <tr>\n      <th>46</th>\n      <td>Waimea</td>\n      <td>Kauai</td>\n      <td>451900.0</td>\n      <td>20.0124</td>\n      <td>-155.6378</td>\n    </tr>\n    <tr>\n      <th>47</th>\n      <td>Waipahu</td>\n      <td>Honolulu</td>\n      <td>667000.0</td>\n      <td>21.3858</td>\n      <td>-158.0103</td>\n    </tr>\n  </tbody>\n</table>\n</div>",
                        "text/plain": "             city    County  House Price      lat       lng\n0            Aiea  Honolulu     704300.0  21.3865 -157.9232\n1         Anahola     Kauai     590300.0  22.1455 -159.3151\n2    Captain Cook    Hawaii     363800.0  19.4995 -155.8937\n3          Eleele     Kauai     495600.0  21.9088 -159.5801\n4       Ewa Beach  Honolulu     625100.0  21.3181 -158.0073\n5         Haleiwa  Honolulu    1206600.0  21.5871 -158.1074\n6         Hanalei     Kauai    1064000.0  22.2041 -159.4977\n7        Hanapepe     Kauai     492000.0  21.9140 -159.5874\n8          Hauula  Honolulu     640100.0  21.6111 -157.9118\n9            Hilo    Hawaii     344800.0  19.6886 -155.0864\n10       Holualoa    Hawaii     653300.0  19.6238 -155.9269\n11        Honokaa    Hawaii     371900.0  20.0746 -155.4656\n12       Honolulu  Honolulu     932100.0  21.3294 -157.8460\n13         Kaaawa  Honolulu     809800.0  21.5485 -157.8534\n14        Kahului      Maui     616400.0  20.8715 -156.4603\n15         Kailua  Honolulu     989000.0  21.3920 -157.7396\n16        Kalaheo     Kauai     630400.0  21.9159 -159.5236\n17        Kaneohe  Honolulu     831800.0  21.4062 -157.7904\n18          Kapaa     Kauai     551700.0  22.0910 -159.3520\n19         Kapaau    Hawaii     380200.0  20.2267 -155.8050\n20        Kapolei  Honolulu     635500.0  21.3403 -158.0665\n21     Kaunakakai      Maui     284200.0  21.0905 -156.9981\n22     Kealakekua    Hawaii     491600.0  19.5286 -155.9033\n23         Kekaha     Kauai     423300.0  21.9684 -159.7141\n24          Kihei      Maui     655600.0  20.7653 -156.4454\n25        Kilauea     Kauai     942400.0  22.2108 -159.3964\n26          Koloa     Kauai     697400.0  21.9030 -159.4610\n27           Kula      Maui     907200.0  20.7706 -156.3284\n28     Kurtistown    Hawaii     250000.0  19.5833 -155.0721\n29        Lahaina      Maui     689300.0  20.8848 -156.6618\n30           Laie  Honolulu     954400.0  21.6443 -157.9280\n31     Lanai City      Maui     459200.0  20.8279 -156.9147\n32          Lihue     Kauai     514000.0  21.9728 -159.3541\n33        Makawao      Maui     709500.0  20.8480 -156.3190\n34  Mountain View    Hawaii     210700.0  19.5358 -155.1596\n35        Naalehu    Hawaii     216200.0  19.0698 -155.5751\n36          Pahoa    Hawaii     179600.0  19.4961 -154.9454\n37           Paia      Maui     793600.0  20.9062 -156.3678\n38     Pearl City  Honolulu     718400.0  21.4031 -157.9566\n39    Princeville     Kauai     782300.0  22.2177 -159.4809\n40        Volcano    Hawaii     230500.0  19.4800 -155.2487\n41        Wahiawa  Honolulu     639600.0  21.5004 -158.0198\n42        Waialua  Honolulu     731700.0  21.5660 -158.1198\n43        Waianae  Honolulu     422700.0  21.4569 -158.1759\n44        Wailuku      Maui     576300.0  20.8834 -156.5059\n45      Waimanalo  Honolulu     742700.0  21.3421 -157.7303\n46         Waimea     Kauai     451900.0  20.0124 -155.6378\n47        Waipahu  Honolulu     667000.0  21.3858 -158.0103"
                    },
                    "execution_count": 88,
                    "metadata": {},
                    "output_type": "execute_result"
                }
            ],
            "source": "hawaii_na.drop(columns=['county_name_all', 'Zip Code'])"
        },
        {
            "cell_type": "markdown",
            "metadata": {},
            "source": ""
        }
    ],
    "metadata": {
        "kernelspec": {
            "display_name": "Python 3.6",
            "language": "python",
            "name": "python3"
        },
        "language_info": {
            "codemirror_mode": {
                "name": "ipython",
                "version": 3
            },
            "file_extension": ".py",
            "mimetype": "text/x-python",
            "name": "python",
            "nbconvert_exporter": "python",
            "pygments_lexer": "ipython3",
            "version": "3.6.8"
        }
    },
    "nbformat": 4,
    "nbformat_minor": 1
}