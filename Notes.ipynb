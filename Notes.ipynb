{
 "cells": [
  {
   "cell_type": "markdown",
   "metadata": {},
   "source": [
    "\n",
    "\n",
    "# Python Notes\n",
    "\n",
    "These are my notes from my course at Codecademy. Basic Python including Pandas and Numpy. This was also my first notebook, my knowledge of Markdown progresses as I went on. \n",
    "\n"
   ]
  },
  {
   "cell_type": "markdown",
   "metadata": {},
   "source": [
    "## Basic Python notes\n",
    "Syntax Error: Something with the way your program is written. (Missing parenthesis)  \n",
    "Name Error: Word it doesn't recognize. If something looks like an erorr but not defined. "
   ]
  },
  {
   "cell_type": "markdown",
   "metadata": {},
   "source": [
    "### Functions\n",
    "Functions: Block of code to be called using it's name\n",
    "\n",
    "Returns: Returns a value to user so the value can be modifed or used later on\n",
    " - When creating a function you use the keywork [def] also indentation matters. "
   ]
  },
  {
   "cell_type": "code",
   "execution_count": null,
   "metadata": {},
   "outputs": [],
   "source": [
    "def new_function():\n",
    "    x = y + 5\n",
    "    return x"
   ]
  },
  {
   "cell_type": "markdown",
   "metadata": {},
   "source": [
    "### Lists"
   ]
  },
  {
   "cell_type": "code",
   "execution_count": null,
   "metadata": {},
   "outputs": [],
   "source": [
    "new_list = zip(list1, list2)\n",
    "print(list(new_list))"
   ]
  },
  {
   "cell_type": "markdown",
   "metadata": {},
   "source": [
    "Zip - combine list1 and list2. [1,2,3] , [a.b.c] =  [[1,a], [2,b], [3,c]]  \n",
    "Zip will return an object. Need to convert it to a list to print out."
   ]
  },
  {
   "cell_type": "code",
   "execution_count": null,
   "metadata": {},
   "outputs": [],
   "source": [
    "my_list.append(7)\n",
    "my_range = range(10)\n",
    "my_list.sort()\n",
    "my_list = sorted(my_list)\n",
    "\n",
    "\n",
    "username = [word for word in words if word[0] == '@']\n",
    "updated_votes = [vote_value + 100 for vote_value in my_upvotes]\n",
    "y_lower = [i - .1 * i for i in y_values]\n",
    "middle_x = [(a+b) / 2.0 for a,b in zip(school_a, school_b)]"
   ]
  },
  {
   "cell_type": "markdown",
   "metadata": {},
   "source": [
    "append - adds 1 to the end of the list\n",
    "<br>\n",
    "<font color='red'>range</font>: returns an object 0-9\n",
    "    range(2,10) = 2-9\n",
    "    range(1, 20, 2) 1-19, skipping 2 \n",
    " <br>\n",
    "<font color='red'>sort()</font> : Does not create a new list only sorts the current one\n",
    "<br>\n",
    "<font color='red'>sorted()</font> : Creates a new list, and will leave my_list unchanged  \n",
    "<font color='red'>List Comprehensions: </font> An easy way to loop through a set of values, check them, or manipulate them and add to a new list.  \n",
    "middle_x will find the middle value for a set of two lists"
   ]
  },
  {
   "cell_type": "markdown",
   "metadata": {},
   "source": [
    "### Loops"
   ]
  },
  {
   "cell_type": "code",
   "execution_count": 1,
   "metadata": {},
   "outputs": [
    {
     "ename": "TypeError",
     "evalue": "'type' object is not iterable",
     "output_type": "error",
     "traceback": [
      "\u001b[1;31m---------------------------------------------------------------------------\u001b[0m",
      "\u001b[1;31mTypeError\u001b[0m                                 Traceback (most recent call last)",
      "\u001b[1;32m<ipython-input-1-678592c47eba>\u001b[0m in \u001b[0;36m<module>\u001b[1;34m\u001b[0m\n\u001b[1;32m----> 1\u001b[1;33m \u001b[1;32mfor\u001b[0m \u001b[0mx\u001b[0m \u001b[1;32min\u001b[0m \u001b[0mlist\u001b[0m\u001b[1;33m:\u001b[0m\u001b[1;33m\u001b[0m\u001b[1;33m\u001b[0m\u001b[0m\n\u001b[0m\u001b[0;32m      2\u001b[0m     \u001b[0mprint\u001b[0m\u001b[1;33m(\u001b[0m\u001b[0mx\u001b[0m\u001b[1;33m)\u001b[0m\u001b[1;33m\u001b[0m\u001b[1;33m\u001b[0m\u001b[0m\n\u001b[0;32m      3\u001b[0m \u001b[1;33m\u001b[0m\u001b[0m\n\u001b[0;32m      4\u001b[0m \u001b[0mi\u001b[0m\u001b[1;33m=\u001b[0m\u001b[1;36m1\u001b[0m\u001b[1;33m\u001b[0m\u001b[1;33m\u001b[0m\u001b[0m\n\u001b[0;32m      5\u001b[0m \u001b[1;32mwhile\u001b[0m \u001b[0mi\u001b[0m \u001b[1;33m<=\u001b[0m \u001b[1;36m10\u001b[0m\u001b[1;33m:\u001b[0m\u001b[1;33m\u001b[0m\u001b[1;33m\u001b[0m\u001b[0m\n",
      "\u001b[1;31mTypeError\u001b[0m: 'type' object is not iterable"
     ]
    }
   ],
   "source": [
    "for x in list:\n",
    "    print(x)\n",
    "    \n",
    "i=1\n",
    "while i <= 10:\n",
    "    print(i)\n",
    "    i+=1\n",
    "    \n",
    "for i in range (len(new_list)):\n",
    "    print(i)"
   ]
  },
  {
   "cell_type": "markdown",
   "metadata": {},
   "source": [
    "### Lambda\n",
    "\n",
    "lambda x: [outcome if true] if [condition] else [outcome if false]"
   ]
  },
  {
   "cell_type": "code",
   "execution_count": null,
   "metadata": {},
   "outputs": [],
   "source": [
    "myfunction = lambda x: 40 + (x-40) * 2 \\\n",
    "if x > 40 else x"
   ]
  },
  {
   "cell_type": "markdown",
   "metadata": {},
   "source": [
    "### Random "
   ]
  },
  {
   "cell_type": "code",
   "execution_count": null,
   "metadata": {},
   "outputs": [],
   "source": [
    "#Square root\n",
    "num ** .5"
   ]
  },
  {
   "cell_type": "markdown",
   "metadata": {},
   "source": [
    "## Numpy  \n",
    "import numpy as np  \n",
    "  \n",
    "A package available in Python. Effectively uses arrays and easily manipulates them  \n"
   ]
  },
  {
   "cell_type": "code",
   "execution_count": null,
   "metadata": {},
   "outputs": [],
   "source": [
    "import numpy as np  \n",
    "np.genfromtxt('file.csv', delimiter = ',')\n",
    "\n",
    "new_array = np.array([1,3,5])\n"
   ]
  },
  {
   "cell_type": "markdown",
   "metadata": {},
   "source": [
    "#### 2 Demensional Array\n",
    "column - axis = 0  \n",
    "row - axis = 1\n",
    "\n",
    "a[row, column]  \n",
    "a[:,0] - selects first column  \n",
    "a[1,:0] - selects second row"
   ]
  },
  {
   "cell_type": "code",
   "execution_count": null,
   "metadata": {},
   "outputs": [],
   "source": [
    "np.random.binomial(N, P, size)\n",
    "len(array_list[array_list == 'A'])\n",
    "np.count_nonzero(list_5 == \"on_time\")\n",
    "np.size(list_5)\n",
    "x_train.shape(row, cols)\n",
    "np.percentile(array,percentile)"
   ]
  },
  {
   "cell_type": "markdown",
   "metadata": {},
   "source": [
    "<font color='red'>random.binomial():</font> N = Number of trials  P= probability of success (.54)  size = total population  \n",
    "Creates a random list of percentages centered at P.  Can divide by N to scale correctly to sample size  \n",
    "<font color='red'>len():</font> Returns how many 'A' are in the list  \n",
    "<font color='red'>count_nonzero()</font> Counts items in list equal to \"on_time\"  \n",
    "<font color='red'>size()</font> \n",
    "<font color='red'>shape:</font> Returns the number of (rows, cols) in an array  \n",
    "\n",
    "#### Percentile   \n",
    "50% of the dataset will lie within the interquartile range. (75% - 25%)  \n",
    "The smaller the interquartile range the less variance in the dataset  \n",
    "The <font color='orange'>Greater</font> the value, the larger the variance\n",
    "\n",
    "#### Standard Deviation\n",
    "The larger the SD, the more spread out data is from the center  \n",
    "The smaller the SD the more the data is clustered around the mean  \n",
    "\n",
    "#### Normal Distribution  \n",
    "68% of sample will fall within +- 1 SD of mean\n",
    "95% +- 2 SD of mean\n",
    "99.7% +- 3 SD of mean"
   ]
  },
  {
   "cell_type": "markdown",
   "metadata": {},
   "source": [
    "## Pandas\n",
    "Data manipulation and analysis\n",
    "Easily works with data frames"
   ]
  },
  {
   "cell_type": "code",
   "execution_count": null,
   "metadata": {},
   "outputs": [],
   "source": [
    "import pandas as pd\n",
    "\n",
    "df = pd.read_csv('my_file.csv')\n",
    "df.to_csv('new_file.csv')\n",
    "\n",
    "#Pulling out certain Columns and saving to a new variable (maybe dataframe)\n",
    "selected_column = df.col_name\n",
    "selected_column = df[\"Column name\"]\n",
    "two_columns = df[['col1', 'col2']]\n",
    "test1 = df[df.tests == '1']\n",
    "\n",
    "#Prints all column names in dataframe\n",
    "list(df.columns)\n",
    "\n",
    "#Selects row - using index\n",
    "selected_row = df.iloc[i]\n",
    "three_rows = df.iloc[1:4]\n",
    "\n",
    "# Find the rating for ID 5\n",
    "df[df['ID'] == ['5']['rating']]\n",
    "\n",
    "#isin()\n",
    "name_df = df[df.name.isin(['Maddie', 'Tristan'])]\n",
    "\n",
    "#isna()\n",
    "df.isna().any()\n",
    "df.fillna('col_1':0, 'col2:0', inplace=True)\n",
    "\n",
    "#Change text to uppercase\n",
    "df['name'] = df.name.apply(upper)\n",
    "\n",
    "#Split\n",
    "df['last_name'] = df.name.apply(lambda x: x.split()[-1])\n",
    "\n",
    "#Renames\n",
    "df.columns=['ID', 'NAME']\n",
    "df.rename(columns={'old_name': 'new_name'}, inplace=True)\n",
    "\n",
    "# COMMANDS \n",
    "df.min()\n",
    "df.col_name.min()\n",
    "df.col_name.count()\n",
    "df.col_name.nunique()\n",
    "df.col_name.unique()\n",
    "\n",
    "#Group By\n",
    "grades= df.groupby('student').grade.mean()\n",
    "cuisine_counts = rest.groupby('cuisine')['id'].nunique().reset_index()\n",
    "\n",
    "#sort\n",
    "df_can.sort_values(by='Total', ascending=False, inplace = True)\n",
    "\n",
    "# Pivot Table\n",
    "df.pivot(columns='col_to_pivot', index='cols_tobe_rows', values='cols_tobe_vals')\n",
    "\n",
    "# Multiple Data Frames \n",
    "new_df = pd.merge(orders, customers)\n",
    "\n",
    "# Drop\n",
    "df.drop(List_features_to_remove, axis=1, inplace=True)\n",
    "\n",
    "# Correlations\n",
    "df.corr()"
   ]
  },
  {
   "cell_type": "markdown",
   "metadata": {},
   "source": [
    "<font color='red'>isna():</font> Returns a list of every column and true is columns has a missing value or NA\n",
    "<font color='red'>Split: </font> Modify every row. Takes each 'name'. Splits 'name' into seperated strings. Only uses the last element of 'name'. And adds it to last_name. (Newly created df)    \n",
    "<font color='red'>Renames:</font> Rename columns in the existing df  \n",
    "<font color='red'>Group By:</font> Group by student (column), another column will be the mean of grades  \n",
    "> 2. Groups bu cuisine, and counts the number of unique ID's for each cuisine. Will be a count of how many restaurents in each cuisine list. \n",
    "\n",
    "\n",
    "<font color='red'>Sort:</font> This will sort by the specified column name\n",
    "<font color='red'>Pivot Table:</font> Will pivot a table to make it easier to read, by changing cols and rows.\n",
    "<font color='red'>Merge:</font> pd.merge(left df, right df, how='inner/outer/left/right', on='col to be merged on'  \n",
    "<font color='red'>Drop:</font> axis=1 - Drops columns, axis=2 - Computation along rows?, Inplace - Replace df"
   ]
  },
  {
   "cell_type": "markdown",
   "metadata": {},
   "source": []
  },
  {
   "cell_type": "code",
   "execution_count": null,
   "metadata": {},
   "outputs": [],
   "source": []
  },
  {
   "cell_type": "markdown",
   "metadata": {},
   "source": []
  },
  {
   "cell_type": "code",
   "execution_count": null,
   "metadata": {},
   "outputs": [],
   "source": []
  },
  {
   "cell_type": "markdown",
   "metadata": {},
   "source": [
    "\n"
   ]
  },
  {
   "cell_type": "markdown",
   "metadata": {},
   "source": []
  }
 ],
 "metadata": {
  "kernelspec": {
   "display_name": "Python 3",
   "language": "python",
   "name": "python3"
  },
  "language_info": {
   "codemirror_mode": {
    "name": "ipython",
    "version": 3
   },
   "file_extension": ".py",
   "mimetype": "text/x-python",
   "name": "python",
   "nbconvert_exporter": "python",
   "pygments_lexer": "ipython3",
   "version": "3.7.3"
  }
 },
 "nbformat": 4,
 "nbformat_minor": 2
}
