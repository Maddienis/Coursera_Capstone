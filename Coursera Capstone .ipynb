{
    "cells": [
        {
            "cell_type": "markdown",
            "metadata": {},
            "source": "## IBM Coursera Capstone\nThis notebook contains my code for the final project of the Applied Data Science Course"
        },
        {
            "cell_type": "code",
            "execution_count": 2,
            "metadata": {},
            "outputs": [],
            "source": "import pandas as pd\nimport numpy as np"
        },
        {
            "cell_type": "code",
            "execution_count": 3,
            "metadata": {},
            "outputs": [],
            "source": "from bs4 import BeautifulSoup\nimport requests"
        },
        {
            "cell_type": "markdown",
            "metadata": {},
            "source": "### This iQuestion 1. \n\nI used both Pandas and BeautifulSoup to retrieve the table"
        },
        {
            "cell_type": "code",
            "execution_count": 4,
            "metadata": {},
            "outputs": [],
            "source": "# Reading table using Pandas\nurl = 'https://en.wikipedia.org/wiki/List_of_postal_codes_of_Canada:_M'\ntables = pd.read_html(url)"
        },
        {
            "cell_type": "code",
            "execution_count": 5,
            "metadata": {},
            "outputs": [
                {
                    "data": {
                        "text/html": "<div>\n<style scoped>\n    .dataframe tbody tr th:only-of-type {\n        vertical-align: middle;\n    }\n\n    .dataframe tbody tr th {\n        vertical-align: top;\n    }\n\n    .dataframe thead th {\n        text-align: right;\n    }\n</style>\n<table border=\"1\" class=\"dataframe\">\n  <thead>\n    <tr style=\"text-align: right;\">\n      <th></th>\n      <th>Postcode</th>\n      <th>Borough</th>\n      <th>Neighbourhood</th>\n    </tr>\n  </thead>\n  <tbody>\n    <tr>\n      <th>0</th>\n      <td>M1A</td>\n      <td>Not assigned</td>\n      <td>Not assigned</td>\n    </tr>\n    <tr>\n      <th>1</th>\n      <td>M2A</td>\n      <td>Not assigned</td>\n      <td>Not assigned</td>\n    </tr>\n    <tr>\n      <th>2</th>\n      <td>M3A</td>\n      <td>North York</td>\n      <td>Parkwoods</td>\n    </tr>\n    <tr>\n      <th>3</th>\n      <td>M4A</td>\n      <td>North York</td>\n      <td>Victoria Village</td>\n    </tr>\n    <tr>\n      <th>4</th>\n      <td>M5A</td>\n      <td>Downtown Toronto</td>\n      <td>Harbourfront</td>\n    </tr>\n  </tbody>\n</table>\n</div>",
                        "text/plain": "  Postcode           Borough     Neighbourhood\n0      M1A      Not assigned      Not assigned\n1      M2A      Not assigned      Not assigned\n2      M3A        North York         Parkwoods\n3      M4A        North York  Victoria Village\n4      M5A  Downtown Toronto      Harbourfront"
                    },
                    "execution_count": 5,
                    "metadata": {},
                    "output_type": "execute_result"
                }
            ],
            "source": "tables[0].head()"
        },
        {
            "cell_type": "code",
            "execution_count": 6,
            "metadata": {},
            "outputs": [],
            "source": "# I also practiced web scraping using Beautiful Soup\nheaders = {'User-Agent': 'Mozilla/5.0'}"
        },
        {
            "cell_type": "code",
            "execution_count": 7,
            "metadata": {},
            "outputs": [],
            "source": "response = requests.get(url, headers = headers)"
        },
        {
            "cell_type": "code",
            "execution_count": 8,
            "metadata": {},
            "outputs": [
                {
                    "data": {
                        "text/plain": "200"
                    },
                    "execution_count": 8,
                    "metadata": {},
                    "output_type": "execute_result"
                }
            ],
            "source": "#Check status code to ensure it has properly connected to web page 200 is connected\nresponse.status_code"
        },
        {
            "cell_type": "code",
            "execution_count": 9,
            "metadata": {},
            "outputs": [],
            "source": "soup = BeautifulSoup(response.content, 'html.parser')\n"
        },
        {
            "cell_type": "code",
            "execution_count": 10,
            "metadata": {},
            "outputs": [],
            "source": "#Found table name by using inspect on webpage\nsuburb_table = soup.find_all('table', class_ ='wikitable sortable')"
        },
        {
            "cell_type": "code",
            "execution_count": 11,
            "metadata": {},
            "outputs": [
                {
                    "data": {
                        "text/plain": "1"
                    },
                    "execution_count": 11,
                    "metadata": {},
                    "output_type": "execute_result"
                }
            ],
            "source": "#This will grab all tables on page\nlen(suburb_table)"
        },
        {
            "cell_type": "code",
            "execution_count": 12,
            "metadata": {},
            "outputs": [],
            "source": "suburb_table = suburb_table[0]"
        },
        {
            "cell_type": "code",
            "execution_count": 13,
            "metadata": {},
            "outputs": [
                {
                    "data": {
                        "text/plain": "bs4.element.Tag"
                    },
                    "execution_count": 13,
                    "metadata": {},
                    "output_type": "execute_result"
                }
            ],
            "source": "#This ensures I have the correct type\ntype(suburb_table)"
        },
        {
            "cell_type": "code",
            "execution_count": 14,
            "metadata": {},
            "outputs": [],
            "source": "#Loops through tr (Rows) and td (elements) and saves each to list. Then puts the list into a dataframe\nl = []\ntable_rows = suburb_table.find_all('tr')\n\nfor tr in table_rows:\n    td = tr.find_all('td')\n    row = [tr.text.strip() for tr in td if tr.text.strip()]\n    if row:\n        l.append(row)\n    \ndf = pd.DataFrame(l, columns=[\"Postcode\", \"Borough\", \"Neighborhood\"])"
        },
        {
            "cell_type": "code",
            "execution_count": 15,
            "metadata": {},
            "outputs": [],
            "source": "# Drops values with 'Not assigned' \ndf.drop(df[df['Neighborhood'] == 'Not assigned'].index, inplace=True)\n"
        },
        {
            "cell_type": "code",
            "execution_count": 16,
            "metadata": {},
            "outputs": [],
            "source": "df = df.groupby(['Postcode', 'Borough'])['Neighborhood'].apply(', '.join).reset_index()\n"
        },
        {
            "cell_type": "code",
            "execution_count": 17,
            "metadata": {},
            "outputs": [
                {
                    "data": {
                        "text/plain": "(102, 3)"
                    },
                    "execution_count": 17,
                    "metadata": {},
                    "output_type": "execute_result"
                }
            ],
            "source": "df.shape"
        },
        {
            "cell_type": "markdown",
            "metadata": {},
            "source": "### Question 2\n\nI used the csv file and merged in the data"
        },
        {
            "cell_type": "code",
            "execution_count": 19,
            "metadata": {},
            "outputs": [
                {
                    "data": {
                        "text/html": "<div>\n<style scoped>\n    .dataframe tbody tr th:only-of-type {\n        vertical-align: middle;\n    }\n\n    .dataframe tbody tr th {\n        vertical-align: top;\n    }\n\n    .dataframe thead th {\n        text-align: right;\n    }\n</style>\n<table border=\"1\" class=\"dataframe\">\n  <thead>\n    <tr style=\"text-align: right;\">\n      <th></th>\n      <th>Postal Code</th>\n      <th>Latitude</th>\n      <th>Longitude</th>\n    </tr>\n  </thead>\n  <tbody>\n    <tr>\n      <th>0</th>\n      <td>M1B</td>\n      <td>43.806686</td>\n      <td>-79.194353</td>\n    </tr>\n    <tr>\n      <th>1</th>\n      <td>M1C</td>\n      <td>43.784535</td>\n      <td>-79.160497</td>\n    </tr>\n    <tr>\n      <th>2</th>\n      <td>M1E</td>\n      <td>43.763573</td>\n      <td>-79.188711</td>\n    </tr>\n    <tr>\n      <th>3</th>\n      <td>M1G</td>\n      <td>43.770992</td>\n      <td>-79.216917</td>\n    </tr>\n    <tr>\n      <th>4</th>\n      <td>M1H</td>\n      <td>43.773136</td>\n      <td>-79.239476</td>\n    </tr>\n  </tbody>\n</table>\n</div>",
                        "text/plain": "  Postal Code   Latitude  Longitude\n0         M1B  43.806686 -79.194353\n1         M1C  43.784535 -79.160497\n2         M1E  43.763573 -79.188711\n3         M1G  43.770992 -79.216917\n4         M1H  43.773136 -79.239476"
                    },
                    "execution_count": 19,
                    "metadata": {},
                    "output_type": "execute_result"
                }
            ],
            "source": "# The code was removed by Watson Studio for sharing."
        },
        {
            "cell_type": "code",
            "execution_count": 20,
            "metadata": {},
            "outputs": [
                {
                    "data": {
                        "text/html": "<div>\n<style scoped>\n    .dataframe tbody tr th:only-of-type {\n        vertical-align: middle;\n    }\n\n    .dataframe tbody tr th {\n        vertical-align: top;\n    }\n\n    .dataframe thead th {\n        text-align: right;\n    }\n</style>\n<table border=\"1\" class=\"dataframe\">\n  <thead>\n    <tr style=\"text-align: right;\">\n      <th></th>\n      <th>Postcode</th>\n      <th>Borough</th>\n      <th>Neighborhood</th>\n    </tr>\n  </thead>\n  <tbody>\n    <tr>\n      <th>0</th>\n      <td>M1B</td>\n      <td>Scarborough</td>\n      <td>Rouge, Malvern</td>\n    </tr>\n    <tr>\n      <th>1</th>\n      <td>M1C</td>\n      <td>Scarborough</td>\n      <td>Highland Creek, Rouge Hill, Port Union</td>\n    </tr>\n    <tr>\n      <th>2</th>\n      <td>M1E</td>\n      <td>Scarborough</td>\n      <td>Guildwood, Morningside, West Hill</td>\n    </tr>\n    <tr>\n      <th>3</th>\n      <td>M1G</td>\n      <td>Scarborough</td>\n      <td>Woburn</td>\n    </tr>\n    <tr>\n      <th>4</th>\n      <td>M1H</td>\n      <td>Scarborough</td>\n      <td>Cedarbrae</td>\n    </tr>\n  </tbody>\n</table>\n</div>",
                        "text/plain": "  Postcode      Borough                            Neighborhood\n0      M1B  Scarborough                          Rouge, Malvern\n1      M1C  Scarborough  Highland Creek, Rouge Hill, Port Union\n2      M1E  Scarborough       Guildwood, Morningside, West Hill\n3      M1G  Scarborough                                  Woburn\n4      M1H  Scarborough                               Cedarbrae"
                    },
                    "execution_count": 20,
                    "metadata": {},
                    "output_type": "execute_result"
                }
            ],
            "source": "df.head()"
        },
        {
            "cell_type": "code",
            "execution_count": 21,
            "metadata": {},
            "outputs": [],
            "source": "# Merge the two dataframes\ntoronto_df = pd.merge(df, df_data_0, left_on='Postcode', right_on='Postal Code')"
        },
        {
            "cell_type": "code",
            "execution_count": 22,
            "metadata": {},
            "outputs": [],
            "source": "# Drop the extra Postal code column\ntoronto_df.drop('Postal Code', axis=1, inplace=True)"
        },
        {
            "cell_type": "code",
            "execution_count": 23,
            "metadata": {},
            "outputs": [
                {
                    "data": {
                        "text/html": "<div>\n<style scoped>\n    .dataframe tbody tr th:only-of-type {\n        vertical-align: middle;\n    }\n\n    .dataframe tbody tr th {\n        vertical-align: top;\n    }\n\n    .dataframe thead th {\n        text-align: right;\n    }\n</style>\n<table border=\"1\" class=\"dataframe\">\n  <thead>\n    <tr style=\"text-align: right;\">\n      <th></th>\n      <th>Postcode</th>\n      <th>Borough</th>\n      <th>Neighborhood</th>\n      <th>Latitude</th>\n      <th>Longitude</th>\n    </tr>\n  </thead>\n  <tbody>\n    <tr>\n      <th>0</th>\n      <td>M1B</td>\n      <td>Scarborough</td>\n      <td>Rouge, Malvern</td>\n      <td>43.806686</td>\n      <td>-79.194353</td>\n    </tr>\n    <tr>\n      <th>1</th>\n      <td>M1C</td>\n      <td>Scarborough</td>\n      <td>Highland Creek, Rouge Hill, Port Union</td>\n      <td>43.784535</td>\n      <td>-79.160497</td>\n    </tr>\n    <tr>\n      <th>2</th>\n      <td>M1E</td>\n      <td>Scarborough</td>\n      <td>Guildwood, Morningside, West Hill</td>\n      <td>43.763573</td>\n      <td>-79.188711</td>\n    </tr>\n    <tr>\n      <th>3</th>\n      <td>M1G</td>\n      <td>Scarborough</td>\n      <td>Woburn</td>\n      <td>43.770992</td>\n      <td>-79.216917</td>\n    </tr>\n    <tr>\n      <th>4</th>\n      <td>M1H</td>\n      <td>Scarborough</td>\n      <td>Cedarbrae</td>\n      <td>43.773136</td>\n      <td>-79.239476</td>\n    </tr>\n  </tbody>\n</table>\n</div>",
                        "text/plain": "  Postcode      Borough                            Neighborhood   Latitude  \\\n0      M1B  Scarborough                          Rouge, Malvern  43.806686   \n1      M1C  Scarborough  Highland Creek, Rouge Hill, Port Union  43.784535   \n2      M1E  Scarborough       Guildwood, Morningside, West Hill  43.763573   \n3      M1G  Scarborough                                  Woburn  43.770992   \n4      M1H  Scarborough                               Cedarbrae  43.773136   \n\n   Longitude  \n0 -79.194353  \n1 -79.160497  \n2 -79.188711  \n3 -79.216917  \n4 -79.239476  "
                    },
                    "execution_count": 23,
                    "metadata": {},
                    "output_type": "execute_result"
                }
            ],
            "source": "toronto_df.head()"
        },
        {
            "cell_type": "markdown",
            "metadata": {},
            "source": "### Question 3"
        },
        {
            "cell_type": "code",
            "execution_count": 24,
            "metadata": {
                "scrolled": true
            },
            "outputs": [
                {
                    "name": "stdout",
                    "output_type": "stream",
                    "text": "Solving environment: done\n\n## Package Plan ##\n\n  environment location: /opt/conda/envs/Python36\n\n  added / updated specs: \n    - geopy\n\n\nThe following packages will be downloaded:\n\n    package                    |            build\n    ---------------------------|-----------------\n    openssl-1.1.1d             |       h516909a_0         2.1 MB  conda-forge\n    ca-certificates-2019.9.11  |       hecc5488_0         144 KB  conda-forge\n    certifi-2019.9.11          |           py36_0         147 KB  conda-forge\n    geographiclib-1.50         |             py_0          34 KB  conda-forge\n    geopy-1.20.0               |             py_0          57 KB  conda-forge\n    ------------------------------------------------------------\n                                           Total:         2.5 MB\n\nThe following NEW packages will be INSTALLED:\n\n    geographiclib:   1.50-py_0         conda-forge\n    geopy:           1.20.0-py_0       conda-forge\n\nThe following packages will be UPDATED:\n\n    certifi:         2019.9.11-py36_0              --> 2019.9.11-py36_0     conda-forge\n\nThe following packages will be DOWNGRADED:\n\n    ca-certificates: 2019.10.16-0                  --> 2019.9.11-hecc5488_0 conda-forge\n    openssl:         1.1.1d-h7b6447c_3             --> 1.1.1d-h516909a_0    conda-forge\n\n\nDownloading and Extracting Packages\nopenssl-1.1.1d       | 2.1 MB    | ##################################### | 100% \nca-certificates-2019 | 144 KB    | ##################################### | 100% \ncertifi-2019.9.11    | 147 KB    | ##################################### | 100% \ngeographiclib-1.50   | 34 KB     | ##################################### | 100% \ngeopy-1.20.0         | 57 KB     | ##################################### | 100% \nPreparing transaction: done\nVerifying transaction: done\nExecuting transaction: done\nSolving environment: done\n\n## Package Plan ##\n\n  environment location: /opt/conda/envs/Python36\n\n  added / updated specs: \n    - folium=0.5.0\n\n\nThe following packages will be downloaded:\n\n    package                    |            build\n    ---------------------------|-----------------\n    folium-0.5.0               |             py_0          45 KB  conda-forge\n    vincent-0.4.4              |             py_1          28 KB  conda-forge\n    altair-3.2.0               |           py36_0         770 KB  conda-forge\n    branca-0.3.1               |             py_0          25 KB  conda-forge\n    ------------------------------------------------------------\n                                           Total:         868 KB\n\nThe following NEW packages will be INSTALLED:\n\n    altair:  3.2.0-py36_0 conda-forge\n    branca:  0.3.1-py_0   conda-forge\n    folium:  0.5.0-py_0   conda-forge\n    vincent: 0.4.4-py_1   conda-forge\n\n\nDownloading and Extracting Packages\nfolium-0.5.0         | 45 KB     | ##################################### | 100% \nvincent-0.4.4        | 28 KB     | ##################################### | 100% \naltair-3.2.0         | 770 KB    | ##################################### | 100% \nbranca-0.3.1         | 25 KB     | ##################################### | 100% \nPreparing transaction: done\nVerifying transaction: done\nExecuting transaction: done\nLibraries imported.\n"
                }
            ],
            "source": "import json # library to handle JSON files\n\n!conda install -c conda-forge geopy --yes # uncomment this line if you haven't completed the Foursquare API lab\nfrom geopy.geocoders import Nominatim # convert an address into latitude and longitude values\n\nimport requests # library to handle requests\nfrom pandas.io.json import json_normalize # tranform JSON file into a pandas dataframe\n\n# Matplotlib and associated plotting modules\nimport matplotlib.cm as cm\nimport matplotlib.colors as colors\n\n# import k-means from clustering stage\nfrom sklearn.cluster import KMeans\n\n!conda install -c conda-forge folium=0.5.0 --yes # uncomment this line if you haven't completed the Foursquare API lab\nimport folium # map rendering library\n\nprint('Libraries imported.')"
        },
        {
            "cell_type": "code",
            "execution_count": 107,
            "metadata": {},
            "outputs": [],
            "source": "# The code was removed by Watson Studio for sharing."
        },
        {
            "cell_type": "code",
            "execution_count": 88,
            "metadata": {},
            "outputs": [],
            "source": "# This function will loop through neighborhoods and make a request to Foursquare for nearby venues \ndef getNearbyVenues(names, latitudes, longitudes, radius=500):\n    \n    venues_list=[]\n    for name, lat, lng in zip(names, latitudes, longitudes):\n        print(name)\n            \n        # create the API request URL\n        url = 'https://api.foursquare.com/v2/venues/explore?&client_id={}&client_secret={}&v={}&ll={},{}&radius={}&limit={}'.format(\n            CLIENT_ID, \n            CLIENT_SECRET, \n            VERSION, \n            lat, \n            lng, \n            radius, \n            LIMIT)\n            \n        # make the GET request\n        results = requests.get(url).json()[\"response\"]['groups'][0]['items']\n        \n        # return only relevant information for each nearby venue\n        venues_list.append([(\n            name, \n            lat, \n            lng, \n            v['venue']['name'], \n            v['venue']['location']['lat'], \n            v['venue']['location']['lng'],  \n            v['venue']['categories'][0]['name']) for v in results])\n\n    nearby_venues = pd.DataFrame([item for venue_list in venues_list for item in venue_list])\n    nearby_venues.columns = ['Neighborhood', \n                  'Neighborhood Latitude', \n                  'Neighborhood Longitude', \n                  'Venue', \n                  'Venue Latitude', \n                  'Venue Longitude', \n                  'Venue Category']\n    \n    return(nearby_venues)"
        },
        {
            "cell_type": "markdown",
            "metadata": {},
            "source": "I have chosen the most populated and least populated postcodes to compare."
        },
        {
            "cell_type": "code",
            "execution_count": 42,
            "metadata": {},
            "outputs": [],
            "source": "hl = ['M1B', 'M2N', 'M1V', 'M9V', 'M2J', 'M5K', 'M5L', 'M5W', 'M5X', 'M7A'] \nhigh_low = toronto_df[toronto_df['Postcode'].isin(hl)]\n"
        },
        {
            "cell_type": "code",
            "execution_count": 52,
            "metadata": {},
            "outputs": [
                {
                    "name": "stdout",
                    "output_type": "stream",
                    "text": "Rouge, Malvern\nAgincourt North, L'Amoreaux East, Milliken, Steeles East\nFairview, Henry Farm, Oriole\nWillowdale South\nDesign Exchange, Toronto Dominion Centre\nCommerce Court, Victoria Hotel\nStn A PO Boxes 25 The Esplanade\nFirst Canadian Place, Underground city\nAlbion Gardens, Beaumond Heights, Humbergate, Jamestown, Mount Olive, Silverstone, South Steeles, Thistletown\n"
                }
            ],
            "source": "high_low_venue = getNearbyVenues(names=high_low['Neighborhood'],\n                                   latitudes=high_low['Latitude'],\n                                   longitudes=high_low['Longitude']\n                                  )"
        },
        {
            "cell_type": "code",
            "execution_count": 53,
            "metadata": {},
            "outputs": [
                {
                    "data": {
                        "text/html": "<div>\n<style scoped>\n    .dataframe tbody tr th:only-of-type {\n        vertical-align: middle;\n    }\n\n    .dataframe tbody tr th {\n        vertical-align: top;\n    }\n\n    .dataframe thead th {\n        text-align: right;\n    }\n</style>\n<table border=\"1\" class=\"dataframe\">\n  <thead>\n    <tr style=\"text-align: right;\">\n      <th></th>\n      <th>Neighborhood Latitude</th>\n      <th>Neighborhood Longitude</th>\n      <th>Venue</th>\n      <th>Venue Latitude</th>\n      <th>Venue Longitude</th>\n      <th>Venue Category</th>\n    </tr>\n    <tr>\n      <th>Neighborhood</th>\n      <th></th>\n      <th></th>\n      <th></th>\n      <th></th>\n      <th></th>\n      <th></th>\n    </tr>\n  </thead>\n  <tbody>\n    <tr>\n      <th>Agincourt North, L'Amoreaux East, Milliken, Steeles East</th>\n      <td>2</td>\n      <td>2</td>\n      <td>2</td>\n      <td>2</td>\n      <td>2</td>\n      <td>2</td>\n    </tr>\n    <tr>\n      <th>Albion Gardens, Beaumond Heights, Humbergate, Jamestown, Mount Olive, Silverstone, South Steeles, Thistletown</th>\n      <td>8</td>\n      <td>8</td>\n      <td>8</td>\n      <td>8</td>\n      <td>8</td>\n      <td>8</td>\n    </tr>\n    <tr>\n      <th>Commerce Court, Victoria Hotel</th>\n      <td>100</td>\n      <td>100</td>\n      <td>100</td>\n      <td>100</td>\n      <td>100</td>\n      <td>100</td>\n    </tr>\n    <tr>\n      <th>Design Exchange, Toronto Dominion Centre</th>\n      <td>100</td>\n      <td>100</td>\n      <td>100</td>\n      <td>100</td>\n      <td>100</td>\n      <td>100</td>\n    </tr>\n    <tr>\n      <th>Fairview, Henry Farm, Oriole</th>\n      <td>64</td>\n      <td>64</td>\n      <td>64</td>\n      <td>64</td>\n      <td>64</td>\n      <td>64</td>\n    </tr>\n    <tr>\n      <th>First Canadian Place, Underground city</th>\n      <td>100</td>\n      <td>100</td>\n      <td>100</td>\n      <td>100</td>\n      <td>100</td>\n      <td>100</td>\n    </tr>\n    <tr>\n      <th>Rouge, Malvern</th>\n      <td>1</td>\n      <td>1</td>\n      <td>1</td>\n      <td>1</td>\n      <td>1</td>\n      <td>1</td>\n    </tr>\n    <tr>\n      <th>Stn A PO Boxes 25 The Esplanade</th>\n      <td>99</td>\n      <td>99</td>\n      <td>99</td>\n      <td>99</td>\n      <td>99</td>\n      <td>99</td>\n    </tr>\n    <tr>\n      <th>Willowdale South</th>\n      <td>34</td>\n      <td>34</td>\n      <td>34</td>\n      <td>34</td>\n      <td>34</td>\n      <td>34</td>\n    </tr>\n  </tbody>\n</table>\n</div>",
                        "text/plain": "                                                    Neighborhood Latitude  \\\nNeighborhood                                                                \nAgincourt North, L'Amoreaux East, Milliken, Ste...                      2   \nAlbion Gardens, Beaumond Heights, Humbergate, J...                      8   \nCommerce Court, Victoria Hotel                                        100   \nDesign Exchange, Toronto Dominion Centre                              100   \nFairview, Henry Farm, Oriole                                           64   \nFirst Canadian Place, Underground city                                100   \nRouge, Malvern                                                          1   \nStn A PO Boxes 25 The Esplanade                                        99   \nWillowdale South                                                       34   \n\n                                                    Neighborhood Longitude  \\\nNeighborhood                                                                 \nAgincourt North, L'Amoreaux East, Milliken, Ste...                       2   \nAlbion Gardens, Beaumond Heights, Humbergate, J...                       8   \nCommerce Court, Victoria Hotel                                         100   \nDesign Exchange, Toronto Dominion Centre                               100   \nFairview, Henry Farm, Oriole                                            64   \nFirst Canadian Place, Underground city                                 100   \nRouge, Malvern                                                           1   \nStn A PO Boxes 25 The Esplanade                                         99   \nWillowdale South                                                        34   \n\n                                                    Venue  Venue Latitude  \\\nNeighborhood                                                                \nAgincourt North, L'Amoreaux East, Milliken, Ste...      2               2   \nAlbion Gardens, Beaumond Heights, Humbergate, J...      8               8   \nCommerce Court, Victoria Hotel                        100             100   \nDesign Exchange, Toronto Dominion Centre              100             100   \nFairview, Henry Farm, Oriole                           64              64   \nFirst Canadian Place, Underground city                100             100   \nRouge, Malvern                                          1               1   \nStn A PO Boxes 25 The Esplanade                        99              99   \nWillowdale South                                       34              34   \n\n                                                    Venue Longitude  \\\nNeighborhood                                                          \nAgincourt North, L'Amoreaux East, Milliken, Ste...                2   \nAlbion Gardens, Beaumond Heights, Humbergate, J...                8   \nCommerce Court, Victoria Hotel                                  100   \nDesign Exchange, Toronto Dominion Centre                        100   \nFairview, Henry Farm, Oriole                                     64   \nFirst Canadian Place, Underground city                          100   \nRouge, Malvern                                                    1   \nStn A PO Boxes 25 The Esplanade                                  99   \nWillowdale South                                                 34   \n\n                                                    Venue Category  \nNeighborhood                                                        \nAgincourt North, L'Amoreaux East, Milliken, Ste...               2  \nAlbion Gardens, Beaumond Heights, Humbergate, J...               8  \nCommerce Court, Victoria Hotel                                 100  \nDesign Exchange, Toronto Dominion Centre                       100  \nFairview, Henry Farm, Oriole                                    64  \nFirst Canadian Place, Underground city                         100  \nRouge, Malvern                                                   1  \nStn A PO Boxes 25 The Esplanade                                 99  \nWillowdale South                                                34  "
                    },
                    "execution_count": 53,
                    "metadata": {},
                    "output_type": "execute_result"
                }
            ],
            "source": "high_low_venue.groupby('Neighborhood').count()"
        },
        {
            "cell_type": "code",
            "execution_count": 89,
            "metadata": {},
            "outputs": [
                {
                    "data": {
                        "text/html": "<div>\n<style scoped>\n    .dataframe tbody tr th:only-of-type {\n        vertical-align: middle;\n    }\n\n    .dataframe tbody tr th {\n        vertical-align: top;\n    }\n\n    .dataframe thead th {\n        text-align: right;\n    }\n</style>\n<table border=\"1\" class=\"dataframe\">\n  <thead>\n    <tr style=\"text-align: right;\">\n      <th></th>\n      <th>Neighborhood</th>\n      <th>American Restaurant</th>\n      <th>Antique Shop</th>\n      <th>Art Gallery</th>\n      <th>Arts &amp; Crafts Store</th>\n      <th>Asian Restaurant</th>\n      <th>BBQ Joint</th>\n      <th>Bagel Shop</th>\n      <th>Bakery</th>\n      <th>Bank</th>\n      <th>...</th>\n      <th>Theater</th>\n      <th>Toy / Game Store</th>\n      <th>Train Station</th>\n      <th>Vegetarian / Vegan Restaurant</th>\n      <th>Video Game Store</th>\n      <th>Video Store</th>\n      <th>Vietnamese Restaurant</th>\n      <th>Wine Bar</th>\n      <th>Wings Joint</th>\n      <th>Women's Store</th>\n    </tr>\n  </thead>\n  <tbody>\n    <tr>\n      <th>0</th>\n      <td>Rouge, Malvern</td>\n      <td>0</td>\n      <td>0</td>\n      <td>0</td>\n      <td>0</td>\n      <td>0</td>\n      <td>0</td>\n      <td>0</td>\n      <td>0</td>\n      <td>0</td>\n      <td>...</td>\n      <td>0</td>\n      <td>0</td>\n      <td>0</td>\n      <td>0</td>\n      <td>0</td>\n      <td>0</td>\n      <td>0</td>\n      <td>0</td>\n      <td>0</td>\n      <td>0</td>\n    </tr>\n    <tr>\n      <th>1</th>\n      <td>Agincourt North, L'Amoreaux East, Milliken, St...</td>\n      <td>0</td>\n      <td>0</td>\n      <td>0</td>\n      <td>0</td>\n      <td>0</td>\n      <td>0</td>\n      <td>0</td>\n      <td>0</td>\n      <td>0</td>\n      <td>...</td>\n      <td>0</td>\n      <td>0</td>\n      <td>0</td>\n      <td>0</td>\n      <td>0</td>\n      <td>0</td>\n      <td>0</td>\n      <td>0</td>\n      <td>0</td>\n      <td>0</td>\n    </tr>\n    <tr>\n      <th>2</th>\n      <td>Agincourt North, L'Amoreaux East, Milliken, St...</td>\n      <td>0</td>\n      <td>0</td>\n      <td>0</td>\n      <td>0</td>\n      <td>0</td>\n      <td>0</td>\n      <td>0</td>\n      <td>0</td>\n      <td>0</td>\n      <td>...</td>\n      <td>0</td>\n      <td>0</td>\n      <td>0</td>\n      <td>0</td>\n      <td>0</td>\n      <td>0</td>\n      <td>0</td>\n      <td>0</td>\n      <td>0</td>\n      <td>0</td>\n    </tr>\n    <tr>\n      <th>3</th>\n      <td>Fairview, Henry Farm, Oriole</td>\n      <td>0</td>\n      <td>0</td>\n      <td>0</td>\n      <td>0</td>\n      <td>0</td>\n      <td>0</td>\n      <td>0</td>\n      <td>0</td>\n      <td>0</td>\n      <td>...</td>\n      <td>0</td>\n      <td>1</td>\n      <td>0</td>\n      <td>0</td>\n      <td>0</td>\n      <td>0</td>\n      <td>0</td>\n      <td>0</td>\n      <td>0</td>\n      <td>0</td>\n    </tr>\n    <tr>\n      <th>4</th>\n      <td>Fairview, Henry Farm, Oriole</td>\n      <td>0</td>\n      <td>0</td>\n      <td>0</td>\n      <td>0</td>\n      <td>0</td>\n      <td>0</td>\n      <td>0</td>\n      <td>0</td>\n      <td>0</td>\n      <td>...</td>\n      <td>0</td>\n      <td>0</td>\n      <td>0</td>\n      <td>0</td>\n      <td>0</td>\n      <td>0</td>\n      <td>0</td>\n      <td>0</td>\n      <td>0</td>\n      <td>0</td>\n    </tr>\n  </tbody>\n</table>\n<p>5 rows \u00d7 121 columns</p>\n</div>",
                        "text/plain": "                                        Neighborhood  American Restaurant  \\\n0                                     Rouge, Malvern                    0   \n1  Agincourt North, L'Amoreaux East, Milliken, St...                    0   \n2  Agincourt North, L'Amoreaux East, Milliken, St...                    0   \n3                       Fairview, Henry Farm, Oriole                    0   \n4                       Fairview, Henry Farm, Oriole                    0   \n\n   Antique Shop  Art Gallery  Arts & Crafts Store  Asian Restaurant  \\\n0             0            0                    0                 0   \n1             0            0                    0                 0   \n2             0            0                    0                 0   \n3             0            0                    0                 0   \n4             0            0                    0                 0   \n\n   BBQ Joint  Bagel Shop  Bakery  Bank  ...  Theater  Toy / Game Store  \\\n0          0           0       0     0  ...        0                 0   \n1          0           0       0     0  ...        0                 0   \n2          0           0       0     0  ...        0                 0   \n3          0           0       0     0  ...        0                 1   \n4          0           0       0     0  ...        0                 0   \n\n   Train Station  Vegetarian / Vegan Restaurant  Video Game Store  \\\n0              0                              0                 0   \n1              0                              0                 0   \n2              0                              0                 0   \n3              0                              0                 0   \n4              0                              0                 0   \n\n   Video Store  Vietnamese Restaurant  Wine Bar  Wings Joint  Women's Store  \n0            0                      0         0            0              0  \n1            0                      0         0            0              0  \n2            0                      0         0            0              0  \n3            0                      0         0            0              0  \n4            0                      0         0            0              0  \n\n[5 rows x 121 columns]"
                    },
                    "execution_count": 89,
                    "metadata": {},
                    "output_type": "execute_result"
                }
            ],
            "source": "# one hot encoding\ntoronto_onehot = pd.get_dummies(high_low_venue[['Venue Category']], prefix=\"\", prefix_sep=\"\")\n\n# add neighborhood column back to dataframe\ntoronto_onehot['Neighborhood'] = high_low_venue['Neighborhood'] \n\n# move neighborhood column to the first column\nfixed_columns = [toronto_onehot.columns[-1]] + list(toronto_onehot.columns[:-1])\ntoronto_onehot = toronto_onehot[fixed_columns]\n\ntoronto_onehot.head()"
        },
        {
            "cell_type": "code",
            "execution_count": 90,
            "metadata": {},
            "outputs": [
                {
                    "data": {
                        "text/html": "<div>\n<style scoped>\n    .dataframe tbody tr th:only-of-type {\n        vertical-align: middle;\n    }\n\n    .dataframe tbody tr th {\n        vertical-align: top;\n    }\n\n    .dataframe thead th {\n        text-align: right;\n    }\n</style>\n<table border=\"1\" class=\"dataframe\">\n  <thead>\n    <tr style=\"text-align: right;\">\n      <th></th>\n      <th>Neighborhood</th>\n      <th>American Restaurant</th>\n      <th>Antique Shop</th>\n      <th>Art Gallery</th>\n      <th>Arts &amp; Crafts Store</th>\n      <th>Asian Restaurant</th>\n      <th>BBQ Joint</th>\n      <th>Bagel Shop</th>\n      <th>Bakery</th>\n      <th>Bank</th>\n      <th>...</th>\n      <th>Theater</th>\n      <th>Toy / Game Store</th>\n      <th>Train Station</th>\n      <th>Vegetarian / Vegan Restaurant</th>\n      <th>Video Game Store</th>\n      <th>Video Store</th>\n      <th>Vietnamese Restaurant</th>\n      <th>Wine Bar</th>\n      <th>Wings Joint</th>\n      <th>Women's Store</th>\n    </tr>\n  </thead>\n  <tbody>\n    <tr>\n      <th>0</th>\n      <td>Agincourt North, L'Amoreaux East, Milliken, St...</td>\n      <td>0.000000</td>\n      <td>0.000000</td>\n      <td>0.000000</td>\n      <td>0.000000</td>\n      <td>0.000000</td>\n      <td>0.000000</td>\n      <td>0.000000</td>\n      <td>0.000000</td>\n      <td>0.000000</td>\n      <td>...</td>\n      <td>0.000000</td>\n      <td>0.000000</td>\n      <td>0.00</td>\n      <td>0.000000</td>\n      <td>0.000000</td>\n      <td>0.000</td>\n      <td>0.000000</td>\n      <td>0.00</td>\n      <td>0.000000</td>\n      <td>0.0000</td>\n    </tr>\n    <tr>\n      <th>1</th>\n      <td>Albion Gardens, Beaumond Heights, Humbergate, ...</td>\n      <td>0.000000</td>\n      <td>0.000000</td>\n      <td>0.000000</td>\n      <td>0.000000</td>\n      <td>0.000000</td>\n      <td>0.000000</td>\n      <td>0.000000</td>\n      <td>0.000000</td>\n      <td>0.000000</td>\n      <td>...</td>\n      <td>0.000000</td>\n      <td>0.000000</td>\n      <td>0.00</td>\n      <td>0.000000</td>\n      <td>0.000000</td>\n      <td>0.125</td>\n      <td>0.000000</td>\n      <td>0.00</td>\n      <td>0.000000</td>\n      <td>0.0000</td>\n    </tr>\n    <tr>\n      <th>2</th>\n      <td>Commerce Court, Victoria Hotel</td>\n      <td>0.040000</td>\n      <td>0.000000</td>\n      <td>0.010000</td>\n      <td>0.000000</td>\n      <td>0.010000</td>\n      <td>0.000000</td>\n      <td>0.000000</td>\n      <td>0.030000</td>\n      <td>0.000000</td>\n      <td>...</td>\n      <td>0.000000</td>\n      <td>0.000000</td>\n      <td>0.00</td>\n      <td>0.020000</td>\n      <td>0.000000</td>\n      <td>0.000</td>\n      <td>0.000000</td>\n      <td>0.01</td>\n      <td>0.000000</td>\n      <td>0.0000</td>\n    </tr>\n    <tr>\n      <th>3</th>\n      <td>Design Exchange, Toronto Dominion Centre</td>\n      <td>0.040000</td>\n      <td>0.000000</td>\n      <td>0.010000</td>\n      <td>0.000000</td>\n      <td>0.020000</td>\n      <td>0.000000</td>\n      <td>0.000000</td>\n      <td>0.020000</td>\n      <td>0.000000</td>\n      <td>...</td>\n      <td>0.010000</td>\n      <td>0.000000</td>\n      <td>0.01</td>\n      <td>0.010000</td>\n      <td>0.000000</td>\n      <td>0.000</td>\n      <td>0.000000</td>\n      <td>0.01</td>\n      <td>0.000000</td>\n      <td>0.0000</td>\n    </tr>\n    <tr>\n      <th>4</th>\n      <td>Fairview, Henry Farm, Oriole</td>\n      <td>0.015625</td>\n      <td>0.000000</td>\n      <td>0.000000</td>\n      <td>0.000000</td>\n      <td>0.015625</td>\n      <td>0.000000</td>\n      <td>0.000000</td>\n      <td>0.031250</td>\n      <td>0.015625</td>\n      <td>...</td>\n      <td>0.015625</td>\n      <td>0.015625</td>\n      <td>0.00</td>\n      <td>0.000000</td>\n      <td>0.015625</td>\n      <td>0.000</td>\n      <td>0.000000</td>\n      <td>0.00</td>\n      <td>0.015625</td>\n      <td>0.0625</td>\n    </tr>\n    <tr>\n      <th>5</th>\n      <td>First Canadian Place, Underground city</td>\n      <td>0.030000</td>\n      <td>0.000000</td>\n      <td>0.010000</td>\n      <td>0.000000</td>\n      <td>0.030000</td>\n      <td>0.000000</td>\n      <td>0.000000</td>\n      <td>0.030000</td>\n      <td>0.000000</td>\n      <td>...</td>\n      <td>0.010000</td>\n      <td>0.000000</td>\n      <td>0.01</td>\n      <td>0.010000</td>\n      <td>0.000000</td>\n      <td>0.000</td>\n      <td>0.000000</td>\n      <td>0.01</td>\n      <td>0.000000</td>\n      <td>0.0000</td>\n    </tr>\n    <tr>\n      <th>6</th>\n      <td>Rouge, Malvern</td>\n      <td>0.000000</td>\n      <td>0.000000</td>\n      <td>0.000000</td>\n      <td>0.000000</td>\n      <td>0.000000</td>\n      <td>0.000000</td>\n      <td>0.000000</td>\n      <td>0.000000</td>\n      <td>0.000000</td>\n      <td>...</td>\n      <td>0.000000</td>\n      <td>0.000000</td>\n      <td>0.00</td>\n      <td>0.000000</td>\n      <td>0.000000</td>\n      <td>0.000</td>\n      <td>0.000000</td>\n      <td>0.00</td>\n      <td>0.000000</td>\n      <td>0.0000</td>\n    </tr>\n    <tr>\n      <th>7</th>\n      <td>Stn A PO Boxes 25 The Esplanade</td>\n      <td>0.010101</td>\n      <td>0.010101</td>\n      <td>0.020202</td>\n      <td>0.000000</td>\n      <td>0.000000</td>\n      <td>0.010101</td>\n      <td>0.010101</td>\n      <td>0.030303</td>\n      <td>0.000000</td>\n      <td>...</td>\n      <td>0.000000</td>\n      <td>0.000000</td>\n      <td>0.00</td>\n      <td>0.010101</td>\n      <td>0.000000</td>\n      <td>0.000</td>\n      <td>0.000000</td>\n      <td>0.00</td>\n      <td>0.000000</td>\n      <td>0.0000</td>\n    </tr>\n    <tr>\n      <th>8</th>\n      <td>Willowdale South</td>\n      <td>0.000000</td>\n      <td>0.000000</td>\n      <td>0.000000</td>\n      <td>0.029412</td>\n      <td>0.000000</td>\n      <td>0.000000</td>\n      <td>0.000000</td>\n      <td>0.000000</td>\n      <td>0.000000</td>\n      <td>...</td>\n      <td>0.000000</td>\n      <td>0.000000</td>\n      <td>0.00</td>\n      <td>0.000000</td>\n      <td>0.000000</td>\n      <td>0.000</td>\n      <td>0.029412</td>\n      <td>0.00</td>\n      <td>0.000000</td>\n      <td>0.0000</td>\n    </tr>\n  </tbody>\n</table>\n<p>9 rows \u00d7 121 columns</p>\n</div>",
                        "text/plain": "                                        Neighborhood  American Restaurant  \\\n0  Agincourt North, L'Amoreaux East, Milliken, St...             0.000000   \n1  Albion Gardens, Beaumond Heights, Humbergate, ...             0.000000   \n2                     Commerce Court, Victoria Hotel             0.040000   \n3           Design Exchange, Toronto Dominion Centre             0.040000   \n4                       Fairview, Henry Farm, Oriole             0.015625   \n5             First Canadian Place, Underground city             0.030000   \n6                                     Rouge, Malvern             0.000000   \n7                    Stn A PO Boxes 25 The Esplanade             0.010101   \n8                                   Willowdale South             0.000000   \n\n   Antique Shop  Art Gallery  Arts & Crafts Store  Asian Restaurant  \\\n0      0.000000     0.000000             0.000000          0.000000   \n1      0.000000     0.000000             0.000000          0.000000   \n2      0.000000     0.010000             0.000000          0.010000   \n3      0.000000     0.010000             0.000000          0.020000   \n4      0.000000     0.000000             0.000000          0.015625   \n5      0.000000     0.010000             0.000000          0.030000   \n6      0.000000     0.000000             0.000000          0.000000   \n7      0.010101     0.020202             0.000000          0.000000   \n8      0.000000     0.000000             0.029412          0.000000   \n\n   BBQ Joint  Bagel Shop    Bakery      Bank  ...   Theater  Toy / Game Store  \\\n0   0.000000    0.000000  0.000000  0.000000  ...  0.000000          0.000000   \n1   0.000000    0.000000  0.000000  0.000000  ...  0.000000          0.000000   \n2   0.000000    0.000000  0.030000  0.000000  ...  0.000000          0.000000   \n3   0.000000    0.000000  0.020000  0.000000  ...  0.010000          0.000000   \n4   0.000000    0.000000  0.031250  0.015625  ...  0.015625          0.015625   \n5   0.000000    0.000000  0.030000  0.000000  ...  0.010000          0.000000   \n6   0.000000    0.000000  0.000000  0.000000  ...  0.000000          0.000000   \n7   0.010101    0.010101  0.030303  0.000000  ...  0.000000          0.000000   \n8   0.000000    0.000000  0.000000  0.000000  ...  0.000000          0.000000   \n\n   Train Station  Vegetarian / Vegan Restaurant  Video Game Store  \\\n0           0.00                       0.000000          0.000000   \n1           0.00                       0.000000          0.000000   \n2           0.00                       0.020000          0.000000   \n3           0.01                       0.010000          0.000000   \n4           0.00                       0.000000          0.015625   \n5           0.01                       0.010000          0.000000   \n6           0.00                       0.000000          0.000000   \n7           0.00                       0.010101          0.000000   \n8           0.00                       0.000000          0.000000   \n\n   Video Store  Vietnamese Restaurant  Wine Bar  Wings Joint  Women's Store  \n0        0.000               0.000000      0.00     0.000000         0.0000  \n1        0.125               0.000000      0.00     0.000000         0.0000  \n2        0.000               0.000000      0.01     0.000000         0.0000  \n3        0.000               0.000000      0.01     0.000000         0.0000  \n4        0.000               0.000000      0.00     0.015625         0.0625  \n5        0.000               0.000000      0.01     0.000000         0.0000  \n6        0.000               0.000000      0.00     0.000000         0.0000  \n7        0.000               0.000000      0.00     0.000000         0.0000  \n8        0.000               0.029412      0.00     0.000000         0.0000  \n\n[9 rows x 121 columns]"
                    },
                    "execution_count": 90,
                    "metadata": {},
                    "output_type": "execute_result"
                }
            ],
            "source": "toronto_grouped = toronto_onehot.groupby('Neighborhood').mean().reset_index()\ntoronto_grouped"
        },
        {
            "cell_type": "code",
            "execution_count": 91,
            "metadata": {},
            "outputs": [],
            "source": "def return_most_common_venues(row, num_top_venues):\n    row_categories = row.iloc[1:]\n    row_categories_sorted = row_categories.sort_values(ascending=False)\n    \n    return row_categories_sorted.index.values[0:num_top_venues]"
        },
        {
            "cell_type": "code",
            "execution_count": 92,
            "metadata": {},
            "outputs": [
                {
                    "data": {
                        "text/html": "<div>\n<style scoped>\n    .dataframe tbody tr th:only-of-type {\n        vertical-align: middle;\n    }\n\n    .dataframe tbody tr th {\n        vertical-align: top;\n    }\n\n    .dataframe thead th {\n        text-align: right;\n    }\n</style>\n<table border=\"1\" class=\"dataframe\">\n  <thead>\n    <tr style=\"text-align: right;\">\n      <th></th>\n      <th>Neighborhood</th>\n      <th>1st Most Common Venue</th>\n      <th>2nd Most Common Venue</th>\n      <th>3rd Most Common Venue</th>\n      <th>4th Most Common Venue</th>\n      <th>5th Most Common Venue</th>\n      <th>6th Most Common Venue</th>\n      <th>7th Most Common Venue</th>\n      <th>8th Most Common Venue</th>\n      <th>9th Most Common Venue</th>\n      <th>10th Most Common Venue</th>\n    </tr>\n  </thead>\n  <tbody>\n    <tr>\n      <th>0</th>\n      <td>Agincourt North, L'Amoreaux East, Milliken, St...</td>\n      <td>Playground</td>\n      <td>Park</td>\n      <td>Clothing Store</td>\n      <td>Cocktail Bar</td>\n      <td>Coffee Shop</td>\n      <td>Comfort Food Restaurant</td>\n      <td>Concert Hall</td>\n      <td>Cosmetics Shop</td>\n      <td>Creperie</td>\n      <td>Deli / Bodega</td>\n    </tr>\n    <tr>\n      <th>1</th>\n      <td>Albion Gardens, Beaumond Heights, Humbergate, ...</td>\n      <td>Pharmacy</td>\n      <td>Sandwich Place</td>\n      <td>Grocery Store</td>\n      <td>Video Store</td>\n      <td>Pizza Place</td>\n      <td>Beer Store</td>\n      <td>Fried Chicken Joint</td>\n      <td>Fast Food Restaurant</td>\n      <td>Department Store</td>\n      <td>Deli / Bodega</td>\n    </tr>\n    <tr>\n      <th>2</th>\n      <td>Commerce Court, Victoria Hotel</td>\n      <td>Coffee Shop</td>\n      <td>Caf\u00e9</td>\n      <td>Hotel</td>\n      <td>American Restaurant</td>\n      <td>Restaurant</td>\n      <td>Italian Restaurant</td>\n      <td>Gym</td>\n      <td>Gastropub</td>\n      <td>Seafood Restaurant</td>\n      <td>Steakhouse</td>\n    </tr>\n    <tr>\n      <th>3</th>\n      <td>Design Exchange, Toronto Dominion Centre</td>\n      <td>Coffee Shop</td>\n      <td>Caf\u00e9</td>\n      <td>Hotel</td>\n      <td>American Restaurant</td>\n      <td>Restaurant</td>\n      <td>Gastropub</td>\n      <td>Steakhouse</td>\n      <td>Seafood Restaurant</td>\n      <td>Italian Restaurant</td>\n      <td>Bar</td>\n    </tr>\n    <tr>\n      <th>4</th>\n      <td>Fairview, Henry Farm, Oriole</td>\n      <td>Clothing Store</td>\n      <td>Coffee Shop</td>\n      <td>Fast Food Restaurant</td>\n      <td>Women's Store</td>\n      <td>Japanese Restaurant</td>\n      <td>Tea Room</td>\n      <td>Bakery</td>\n      <td>Bank</td>\n      <td>Dessert Shop</td>\n      <td>Liquor Store</td>\n    </tr>\n  </tbody>\n</table>\n</div>",
                        "text/plain": "                                        Neighborhood 1st Most Common Venue  \\\n0  Agincourt North, L'Amoreaux East, Milliken, St...            Playground   \n1  Albion Gardens, Beaumond Heights, Humbergate, ...              Pharmacy   \n2                     Commerce Court, Victoria Hotel           Coffee Shop   \n3           Design Exchange, Toronto Dominion Centre           Coffee Shop   \n4                       Fairview, Henry Farm, Oriole        Clothing Store   \n\n  2nd Most Common Venue 3rd Most Common Venue 4th Most Common Venue  \\\n0                  Park        Clothing Store          Cocktail Bar   \n1        Sandwich Place         Grocery Store           Video Store   \n2                  Caf\u00e9                 Hotel   American Restaurant   \n3                  Caf\u00e9                 Hotel   American Restaurant   \n4           Coffee Shop  Fast Food Restaurant         Women's Store   \n\n  5th Most Common Venue    6th Most Common Venue 7th Most Common Venue  \\\n0           Coffee Shop  Comfort Food Restaurant          Concert Hall   \n1           Pizza Place               Beer Store   Fried Chicken Joint   \n2            Restaurant       Italian Restaurant                   Gym   \n3            Restaurant                Gastropub            Steakhouse   \n4   Japanese Restaurant                 Tea Room                Bakery   \n\n  8th Most Common Venue 9th Most Common Venue 10th Most Common Venue  \n0        Cosmetics Shop              Creperie          Deli / Bodega  \n1  Fast Food Restaurant      Department Store          Deli / Bodega  \n2             Gastropub    Seafood Restaurant             Steakhouse  \n3    Seafood Restaurant    Italian Restaurant                    Bar  \n4                  Bank          Dessert Shop           Liquor Store  "
                    },
                    "execution_count": 92,
                    "metadata": {},
                    "output_type": "execute_result"
                }
            ],
            "source": "num_top_venues = 10\n\nindicators = ['st', 'nd', 'rd']\n\n# create columns according to number of top venues\ncolumns = ['Neighborhood']\nfor ind in np.arange(num_top_venues):\n    try:\n        columns.append('{}{} Most Common Venue'.format(ind+1, indicators[ind]))\n    except:\n        columns.append('{}th Most Common Venue'.format(ind+1))\n\n# create a new dataframe\nneighborhoods_venues_sorted = pd.DataFrame(columns=columns)\nneighborhoods_venues_sorted['Neighborhood'] = toronto_grouped['Neighborhood']\n\nfor ind in np.arange(toronto_grouped.shape[0]):\n    neighborhoods_venues_sorted.iloc[ind, 1:] = return_most_common_venues(toronto_grouped.iloc[ind, :], num_top_venues)\n\nneighborhoods_venues_sorted.head()"
        },
        {
            "cell_type": "code",
            "execution_count": 103,
            "metadata": {},
            "outputs": [
                {
                    "data": {
                        "text/plain": "array([2, 3, 0, 0, 0, 0, 1, 0, 0], dtype=int32)"
                    },
                    "execution_count": 103,
                    "metadata": {},
                    "output_type": "execute_result"
                }
            ],
            "source": "# set number of clusters\nkclusters = 4\n\ntoronto_grouped_clustering = toronto_grouped.drop('Neighborhood', 1)\n\n# run k-means clustering\nkmeans = KMeans(n_clusters=kclusters, random_state=0).fit(toronto_grouped_clustering)\n\n# check cluster labels generated for each row in the dataframe\nkmeans.labels_[0:10] "
        },
        {
            "cell_type": "code",
            "execution_count": 104,
            "metadata": {},
            "outputs": [
                {
                    "data": {
                        "text/html": "<div>\n<style scoped>\n    .dataframe tbody tr th:only-of-type {\n        vertical-align: middle;\n    }\n\n    .dataframe tbody tr th {\n        vertical-align: top;\n    }\n\n    .dataframe thead th {\n        text-align: right;\n    }\n</style>\n<table border=\"1\" class=\"dataframe\">\n  <thead>\n    <tr style=\"text-align: right;\">\n      <th></th>\n      <th>Postcode</th>\n      <th>Borough</th>\n      <th>Neighborhood</th>\n      <th>Latitude</th>\n      <th>Longitude</th>\n      <th>Cluster Labels</th>\n      <th>1st Most Common Venue</th>\n      <th>2nd Most Common Venue</th>\n      <th>3rd Most Common Venue</th>\n      <th>4th Most Common Venue</th>\n      <th>5th Most Common Venue</th>\n      <th>6th Most Common Venue</th>\n      <th>7th Most Common Venue</th>\n      <th>8th Most Common Venue</th>\n      <th>9th Most Common Venue</th>\n      <th>10th Most Common Venue</th>\n    </tr>\n  </thead>\n  <tbody>\n    <tr>\n      <th>0</th>\n      <td>M1B</td>\n      <td>Scarborough</td>\n      <td>Rouge, Malvern</td>\n      <td>43.806686</td>\n      <td>-79.194353</td>\n      <td>1</td>\n      <td>Fast Food Restaurant</td>\n      <td>Women's Store</td>\n      <td>Electronics Store</td>\n      <td>Cocktail Bar</td>\n      <td>Coffee Shop</td>\n      <td>Comfort Food Restaurant</td>\n      <td>Concert Hall</td>\n      <td>Cosmetics Shop</td>\n      <td>Creperie</td>\n      <td>Deli / Bodega</td>\n    </tr>\n    <tr>\n      <th>14</th>\n      <td>M1V</td>\n      <td>Scarborough</td>\n      <td>Agincourt North, L'Amoreaux East, Milliken, St...</td>\n      <td>43.815252</td>\n      <td>-79.284577</td>\n      <td>2</td>\n      <td>Playground</td>\n      <td>Park</td>\n      <td>Clothing Store</td>\n      <td>Cocktail Bar</td>\n      <td>Coffee Shop</td>\n      <td>Comfort Food Restaurant</td>\n      <td>Concert Hall</td>\n      <td>Cosmetics Shop</td>\n      <td>Creperie</td>\n      <td>Deli / Bodega</td>\n    </tr>\n    <tr>\n      <th>18</th>\n      <td>M2J</td>\n      <td>North York</td>\n      <td>Fairview, Henry Farm, Oriole</td>\n      <td>43.778517</td>\n      <td>-79.346556</td>\n      <td>0</td>\n      <td>Clothing Store</td>\n      <td>Coffee Shop</td>\n      <td>Fast Food Restaurant</td>\n      <td>Women's Store</td>\n      <td>Japanese Restaurant</td>\n      <td>Tea Room</td>\n      <td>Bakery</td>\n      <td>Bank</td>\n      <td>Dessert Shop</td>\n      <td>Liquor Store</td>\n    </tr>\n    <tr>\n      <th>22</th>\n      <td>M2N</td>\n      <td>North York</td>\n      <td>Willowdale South</td>\n      <td>43.770120</td>\n      <td>-79.408493</td>\n      <td>0</td>\n      <td>Ramen Restaurant</td>\n      <td>Coffee Shop</td>\n      <td>Sandwich Place</td>\n      <td>Caf\u00e9</td>\n      <td>Pizza Place</td>\n      <td>Sushi Restaurant</td>\n      <td>Ice Cream Shop</td>\n      <td>Restaurant</td>\n      <td>Juice Bar</td>\n      <td>Bubble Tea Shop</td>\n    </tr>\n    <tr>\n      <th>60</th>\n      <td>M5K</td>\n      <td>Downtown Toronto</td>\n      <td>Design Exchange, Toronto Dominion Centre</td>\n      <td>43.647177</td>\n      <td>-79.381576</td>\n      <td>0</td>\n      <td>Coffee Shop</td>\n      <td>Caf\u00e9</td>\n      <td>Hotel</td>\n      <td>American Restaurant</td>\n      <td>Restaurant</td>\n      <td>Gastropub</td>\n      <td>Steakhouse</td>\n      <td>Seafood Restaurant</td>\n      <td>Italian Restaurant</td>\n      <td>Bar</td>\n    </tr>\n    <tr>\n      <th>61</th>\n      <td>M5L</td>\n      <td>Downtown Toronto</td>\n      <td>Commerce Court, Victoria Hotel</td>\n      <td>43.648198</td>\n      <td>-79.379817</td>\n      <td>0</td>\n      <td>Coffee Shop</td>\n      <td>Caf\u00e9</td>\n      <td>Hotel</td>\n      <td>American Restaurant</td>\n      <td>Restaurant</td>\n      <td>Italian Restaurant</td>\n      <td>Gym</td>\n      <td>Gastropub</td>\n      <td>Seafood Restaurant</td>\n      <td>Steakhouse</td>\n    </tr>\n    <tr>\n      <th>69</th>\n      <td>M5W</td>\n      <td>Downtown Toronto</td>\n      <td>Stn A PO Boxes 25 The Esplanade</td>\n      <td>43.646435</td>\n      <td>-79.374846</td>\n      <td>0</td>\n      <td>Coffee Shop</td>\n      <td>Caf\u00e9</td>\n      <td>Restaurant</td>\n      <td>Seafood Restaurant</td>\n      <td>Hotel</td>\n      <td>Italian Restaurant</td>\n      <td>Beer Bar</td>\n      <td>Bakery</td>\n      <td>Japanese Restaurant</td>\n      <td>Creperie</td>\n    </tr>\n    <tr>\n      <th>70</th>\n      <td>M5X</td>\n      <td>Downtown Toronto</td>\n      <td>First Canadian Place, Underground city</td>\n      <td>43.648429</td>\n      <td>-79.382280</td>\n      <td>0</td>\n      <td>Coffee Shop</td>\n      <td>Caf\u00e9</td>\n      <td>Hotel</td>\n      <td>Restaurant</td>\n      <td>Steakhouse</td>\n      <td>Seafood Restaurant</td>\n      <td>Gastropub</td>\n      <td>Japanese Restaurant</td>\n      <td>Deli / Bodega</td>\n      <td>American Restaurant</td>\n    </tr>\n    <tr>\n      <th>100</th>\n      <td>M9V</td>\n      <td>Etobicoke</td>\n      <td>Albion Gardens, Beaumond Heights, Humbergate, ...</td>\n      <td>43.739416</td>\n      <td>-79.588437</td>\n      <td>3</td>\n      <td>Pharmacy</td>\n      <td>Sandwich Place</td>\n      <td>Grocery Store</td>\n      <td>Video Store</td>\n      <td>Pizza Place</td>\n      <td>Beer Store</td>\n      <td>Fried Chicken Joint</td>\n      <td>Fast Food Restaurant</td>\n      <td>Department Store</td>\n      <td>Deli / Bodega</td>\n    </tr>\n  </tbody>\n</table>\n</div>",
                        "text/plain": "    Postcode           Borough  \\\n0        M1B       Scarborough   \n14       M1V       Scarborough   \n18       M2J        North York   \n22       M2N        North York   \n60       M5K  Downtown Toronto   \n61       M5L  Downtown Toronto   \n69       M5W  Downtown Toronto   \n70       M5X  Downtown Toronto   \n100      M9V         Etobicoke   \n\n                                          Neighborhood   Latitude  Longitude  \\\n0                                       Rouge, Malvern  43.806686 -79.194353   \n14   Agincourt North, L'Amoreaux East, Milliken, St...  43.815252 -79.284577   \n18                        Fairview, Henry Farm, Oriole  43.778517 -79.346556   \n22                                    Willowdale South  43.770120 -79.408493   \n60            Design Exchange, Toronto Dominion Centre  43.647177 -79.381576   \n61                      Commerce Court, Victoria Hotel  43.648198 -79.379817   \n69                     Stn A PO Boxes 25 The Esplanade  43.646435 -79.374846   \n70              First Canadian Place, Underground city  43.648429 -79.382280   \n100  Albion Gardens, Beaumond Heights, Humbergate, ...  43.739416 -79.588437   \n\n     Cluster Labels 1st Most Common Venue 2nd Most Common Venue  \\\n0                 1  Fast Food Restaurant         Women's Store   \n14                2            Playground                  Park   \n18                0        Clothing Store           Coffee Shop   \n22                0      Ramen Restaurant           Coffee Shop   \n60                0           Coffee Shop                  Caf\u00e9   \n61                0           Coffee Shop                  Caf\u00e9   \n69                0           Coffee Shop                  Caf\u00e9   \n70                0           Coffee Shop                  Caf\u00e9   \n100               3              Pharmacy        Sandwich Place   \n\n    3rd Most Common Venue 4th Most Common Venue 5th Most Common Venue  \\\n0       Electronics Store          Cocktail Bar           Coffee Shop   \n14         Clothing Store          Cocktail Bar           Coffee Shop   \n18   Fast Food Restaurant         Women's Store   Japanese Restaurant   \n22         Sandwich Place                  Caf\u00e9           Pizza Place   \n60                  Hotel   American Restaurant            Restaurant   \n61                  Hotel   American Restaurant            Restaurant   \n69             Restaurant    Seafood Restaurant                 Hotel   \n70                  Hotel            Restaurant            Steakhouse   \n100         Grocery Store           Video Store           Pizza Place   \n\n       6th Most Common Venue 7th Most Common Venue 8th Most Common Venue  \\\n0    Comfort Food Restaurant          Concert Hall        Cosmetics Shop   \n14   Comfort Food Restaurant          Concert Hall        Cosmetics Shop   \n18                  Tea Room                Bakery                  Bank   \n22          Sushi Restaurant        Ice Cream Shop            Restaurant   \n60                 Gastropub            Steakhouse    Seafood Restaurant   \n61        Italian Restaurant                   Gym             Gastropub   \n69        Italian Restaurant              Beer Bar                Bakery   \n70        Seafood Restaurant             Gastropub   Japanese Restaurant   \n100               Beer Store   Fried Chicken Joint  Fast Food Restaurant   \n\n    9th Most Common Venue 10th Most Common Venue  \n0                Creperie          Deli / Bodega  \n14               Creperie          Deli / Bodega  \n18           Dessert Shop           Liquor Store  \n22              Juice Bar        Bubble Tea Shop  \n60     Italian Restaurant                    Bar  \n61     Seafood Restaurant             Steakhouse  \n69    Japanese Restaurant               Creperie  \n70          Deli / Bodega    American Restaurant  \n100      Department Store          Deli / Bodega  "
                    },
                    "execution_count": 104,
                    "metadata": {},
                    "output_type": "execute_result"
                }
            ],
            "source": "# add clustering labels\n#neighborhoods_venues_sorted.insert(0, 'Cluster Labels', kmeans.labels_)\n\ntoronto_merged = high_low\n\n# merge toronto_grouped with toronto_data to add latitude/longitude for each neighborhood\ntoronto_merged = toronto_merged.join(neighborhoods_venues_sorted.set_index('Neighborhood'), on='Neighborhood')\n\ntoronto_merged"
        },
        {
            "cell_type": "code",
            "execution_count": 105,
            "metadata": {},
            "outputs": [
                {
                    "data": {
                        "text/html": "<div style=\"width:100%;\"><div style=\"position:relative;width:100%;height:0;padding-bottom:60%;\"><iframe src=\"data:text/html;charset=utf-8;base64,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\" style=\"position:absolute;width:100%;height:100%;left:0;top:0;border:none !important;\" allowfullscreen webkitallowfullscreen mozallowfullscreen></iframe></div></div>",
                        "text/plain": "<folium.folium.Map at 0x7f0bb6e11898>"
                    },
                    "execution_count": 105,
                    "metadata": {},
                    "output_type": "execute_result"
                }
            ],
            "source": "# create map\nmap_clusters = folium.Map(location=[latitude, longitude], zoom_start=11)\n\n# set color scheme for the clusters\nx = np.arange(kclusters)\nys = [i + x + (i*x)**2 for i in range(kclusters)]\ncolors_array = cm.rainbow(np.linspace(0, 1, len(ys)))\nrainbow = [colors.rgb2hex(i) for i in colors_array]\n\n# add markers to the map\nmarkers_colors = []\nfor lat, lon, poi, cluster in zip(toronto_merged['Latitude'], toronto_merged['Longitude'], toronto_merged['Neighborhood'], toronto_merged['Cluster Labels']):\n    label = folium.Popup(str(poi) + ' Cluster ' + str(cluster), parse_html=True)\n    folium.CircleMarker(\n        [lat, lon],\n        radius=5,\n        popup=label,\n        color=rainbow[cluster-1],\n        fill=True,\n        fill_color=rainbow[cluster-1],\n        fill_opacity=0.7).add_to(map_clusters)\n       \nmap_clusters"
        },
        {
            "cell_type": "markdown",
            "metadata": {},
            "source": "The more populated areas are clustered as 0, while the less populated areas are seperated in their own clusters."
        },
        {
            "cell_type": "code",
            "execution_count": null,
            "metadata": {},
            "outputs": [],
            "source": ""
        }
    ],
    "metadata": {
        "kernelspec": {
            "display_name": "Python 3.6",
            "language": "python",
            "name": "python3"
        },
        "language_info": {
            "codemirror_mode": {
                "name": "ipython",
                "version": 3
            },
            "file_extension": ".py",
            "mimetype": "text/x-python",
            "name": "python",
            "nbconvert_exporter": "python",
            "pygments_lexer": "ipython3",
            "version": "3.6.8"
        }
    },
    "nbformat": 4,
    "nbformat_minor": 1
}